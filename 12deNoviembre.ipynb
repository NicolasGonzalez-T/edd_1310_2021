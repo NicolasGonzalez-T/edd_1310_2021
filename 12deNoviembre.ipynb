{
  "nbformat": 4,
  "nbformat_minor": 0,
  "metadata": {
    "colab": {
      "name": "12deNoviembre.ipynb",
      "provenance": [],
      "authorship_tag": "ABX9TyN2ip6ihlf8/vTIPXWUUYgB",
      "include_colab_link": true
    },
    "kernelspec": {
      "name": "python3",
      "display_name": "Python 3"
    }
  },
  "cells": [
    {
      "cell_type": "markdown",
      "metadata": {
        "id": "view-in-github",
        "colab_type": "text"
      },
      "source": [
        "<a href=\"https://colab.research.google.com/github/NicolasGonzalez-T/edd_1310_2021/blob/master/12deNoviembre.ipynb\" target=\"_parent\"><img src=\"https://colab.research.google.com/assets/colab-badge.svg\" alt=\"Open In Colab\"/></a>"
      ]
    },
    {
      "cell_type": "markdown",
      "metadata": {
        "id": "N6wy4a4QcRId"
      },
      "source": [
        "# Listas ligadas"
      ]
    },
    {
      "cell_type": "code",
      "metadata": {
        "id": "7CdLbJY5cPVi",
        "outputId": "b95307d9-4ba8-4b5b-89b3-2a50ac28b202",
        "colab": {
          "base_uri": "https://localhost:8080/"
        }
      },
      "source": [
        "class Nodo:\n",
        "  def __init__( self, dato):\n",
        "    self.dato = dato\n",
        "    self.siguiente = None\n",
        "\n",
        "\n",
        "\n",
        "#Ejemplo 1\n",
        "a = Nodo(12)\n",
        "print(a.dato)\n",
        "\n",
        "#Ejemplo 2\n",
        "a.siguiente = Nodo(20)\n",
        "print(a.siguiente.dato)\n",
        "\n",
        "#Ejemplo 3\n",
        "a.siguiente.siguiente = Nodo(30)\n",
        "\n",
        "#Ejemplo 4\n",
        "a.siguiente.siguiente.siguiente = Nodo(40)\n",
        "\n",
        "#Ejemplo 5\n",
        "a.siguiente.siguiente.siguiente.siguiente = Nodo(50)\n",
        "\n",
        "#Ejemplo 6: Eliminar nodo 30 \n",
        "a.siguiente.siguiente = a.siguiente.siguiente.siguiente\n",
        "\n",
        "#Ejemplo 7: Cambiar un dato\n",
        "a.siguiente.siguiente.dato = 45\n",
        "\n",
        "#Ejemplo 8: Instertar un dato\n",
        "tmp = a.siguiente.siguiente.siguiente #se crea una temporal, para noperder referencia\n",
        "a.siguiente.siguiente.siguiente = Nodo(48)#Creando nodo que se va insertar\n",
        "a.siguiente.siguiente.siguiente.siguiente = tmp\n",
        "\n",
        "#Recorrido transversal\n",
        "curr_node = a\n",
        "print(curr_node.dato, \"----> \", end=\"\")\n",
        "while( curr_node.siguiente != None):\n",
        "  curr_node = curr_node.siguiente\n",
        "  print(curr_node.dato, \"----> \", end=\"\")\n",
        "print(\"\")\n",
        "\n"
      ],
      "execution_count": null,
      "outputs": [
        {
          "output_type": "stream",
          "text": [
            "12\n",
            "20\n",
            "12 ----> 20 ----> 45 ----> 48 ----> 50 ----> \n"
          ],
          "name": "stdout"
        }
      ]
    },
    {
      "cell_type": "code",
      "metadata": {
        "id": "y_S9ptImvZcB",
        "outputId": "788183fa-f0bc-483b-fe9b-72d69ca212b2",
        "colab": {
          "base_uri": "https://localhost:8080/"
        }
      },
      "source": [
        "class Nodo:\n",
        "    def __init__( self , dato  , sig=None ):\n",
        "        self.dato = dato\n",
        "        self.siguiente = sig\n",
        "\n",
        "# ejemplo 1\n",
        "a = Nodo( 10 )\n",
        "\n",
        "# ejemplo 2   RECONSTRUCCION\n",
        "a = Nodo(10 , Nodo( 20 ) )\n",
        "\n",
        "a = Nodo(10 , Nodo( 20, Nodo( 30 ) ) )\n",
        "\n",
        "a = Nodo( 10 , Nodo( 20, Nodo( 30,Nodo( 40,Nodo( 50 ) ) ) ) )\n",
        "\n",
        "#Recorrido transversal\n",
        "curr_node = a\n",
        "print(curr_node.dato, \"----> \", end=\"\")\n",
        "while( curr_node.siguiente != None):\n",
        "  curr_node = curr_node.siguiente\n",
        "  print(curr_node.dato, \"----> \", end=\"\")\n",
        "print(\"\")"
      ],
      "execution_count": null,
      "outputs": [
        {
          "output_type": "stream",
          "text": [
            "10 ----> 20 ----> 30 ----> 40 ----> 50 ----> \n"
          ],
          "name": "stdout"
        }
      ]
    }
  ]
}