{
  "nbformat": 4,
  "nbformat_minor": 0,
  "metadata": {
    "colab": {
      "name": "17deNoviembre.ipynb",
      "provenance": [],
      "authorship_tag": "ABX9TyPFjkoEGo1/hmbHey9P8sKF",
      "include_colab_link": true
    },
    "kernelspec": {
      "name": "python3",
      "display_name": "Python 3"
    }
  },
  "cells": [
    {
      "cell_type": "markdown",
      "metadata": {
        "id": "view-in-github",
        "colab_type": "text"
      },
      "source": [
        "<a href=\"https://colab.research.google.com/github/NicolasGonzalez-T/edd_1310_2021/blob/master/17deNoviembre.ipynb\" target=\"_parent\"><img src=\"https://colab.research.google.com/assets/colab-badge.svg\" alt=\"Open In Colab\"/></a>"
      ]
    },
    {
      "cell_type": "code",
      "metadata": {
        "id": "0mvEDHfLJxA4",
        "colab": {
          "base_uri": "https://localhost:8080/"
        },
        "outputId": "f622e852-5dd3-4b1b-c614-bfc47f11c0e3"
      },
      "source": [
        "from listas import LinkedList\n",
        "\n",
        "l = LinkedList()\n",
        "print(f\"L esta vacía? { l.is_empty() }\")\n",
        "l.append( 10 )\n",
        "l.append( 5 )\n",
        "l.append( 6 )\n",
        "l.append( 20 )\n",
        "print(f\"L esta vacía? { l.is_empty() }\")\n",
        "l.transversal()\n"
      ],
      "execution_count": 4,
      "outputs": [
        {
          "output_type": "stream",
          "text": [
            "L esta vacía? True\n",
            "L esta vacía? False\n",
            "10 ----> 5 ----> 6 ----> 20 ----> \n"
          ],
          "name": "stdout"
        }
      ]
    }
  ]
}