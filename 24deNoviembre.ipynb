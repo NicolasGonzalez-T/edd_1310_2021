{
  "nbformat": 4,
  "nbformat_minor": 0,
  "metadata": {
    "colab": {
      "name": "24deNoviembre.ipynb",
      "provenance": [],
      "authorship_tag": "ABX9TyO/H1iylVpeJSntnqsYcx24",
      "include_colab_link": true
    },
    "kernelspec": {
      "name": "python3",
      "display_name": "Python 3"
    }
  },
  "cells": [
    {
      "cell_type": "markdown",
      "metadata": {
        "id": "view-in-github",
        "colab_type": "text"
      },
      "source": [
        "<a href=\"https://colab.research.google.com/github/NicolasGonzalez-T/edd_1310_2021/blob/master/24deNoviembre.ipynb\" target=\"_parent\"><img src=\"https://colab.research.google.com/assets/colab-badge.svg\" alt=\"Open In Colab\"/></a>"
      ]
    },
    {
      "cell_type": "code",
      "metadata": {
        "colab": {
          "base_uri": "https://localhost:8080/"
        },
        "id": "dbcZzkgMkANf",
        "outputId": "81eb0ad3-496c-45d0-b8ab-01285d3fecfc"
      },
      "source": [
        "from listas import DoubleLinkedList\n",
        "\n",
        "ldd = DoubleLinkedList()\n",
        "print(\"¿Está vacía?: \", ldd.is_empty() )\n",
        "ldd.append(10)\n",
        "ldd.append(20)\n",
        "ldd.append(30)\n",
        "print(f\"La lista tiene {ldd.get_size()} elementos\")\n",
        "ldd.transversal()\n",
        "ldd.reverse_transversal()\n",
        "ldd.remove_from_head(20)\n",
        "ldd.transversal()\n",
        "ldd.reverse_transversal()\n"
      ],
      "execution_count": 2,
      "outputs": [
        {
          "output_type": "stream",
          "text": [
            "¿Está vacía?:  True\n",
            "La lista tiene 3 elementos\n",
            " <-------- 10 -------> <-------- 20 -------> <-------- 30 ------->\n",
            " <-------- 30 -------> <-------- 20 -------> <-------- 10 ------->\n",
            " <-------- 10 -------> <-------- 30 ------->\n",
            " <-------- 30 -------> <-------- 10 ------->\n"
          ],
          "name": "stdout"
        }
      ]
    }
  ]
}