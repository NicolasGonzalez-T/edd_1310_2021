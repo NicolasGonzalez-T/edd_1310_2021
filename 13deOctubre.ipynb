{
  "nbformat": 4,
  "nbformat_minor": 0,
  "metadata": {
    "colab": {
      "name": "13deOctubre.ipynb",
      "provenance": [],
      "toc_visible": true,
      "authorship_tag": "ABX9TyOynYWEqIDwUrg9UBD8zJM/",
      "include_colab_link": true
    },
    "kernelspec": {
      "name": "python3",
      "display_name": "Python 3"
    }
  },
  "cells": [
    {
      "cell_type": "markdown",
      "metadata": {
        "id": "view-in-github",
        "colab_type": "text"
      },
      "source": [
        "<a href=\"https://colab.research.google.com/github/NicolasGonzalez-T/edd_1310_2021/blob/master/13deOctubre.ipynb\" target=\"_parent\"><img src=\"https://colab.research.google.com/assets/colab-badge.svg\" alt=\"Open In Colab\"/></a>"
      ]
    },
    {
      "cell_type": "markdown",
      "metadata": {
        "id": "IBno0xyYxQeQ"
      },
      "source": [
        "#Diccionarios parte 2"
      ]
    },
    {
      "cell_type": "code",
      "metadata": {
        "id": "CPrRrTE9twqz",
        "outputId": "7158d07c-7bbc-426d-e9da-b0a4a07c954e",
        "colab": {
          "base_uri": "https://localhost:8080/",
          "height": 88
        }
      },
      "source": [
        "alumno = { \n",
        "          \"num_cta\" : 303030303 ,\n",
        "          \"carrera\" : \"ICO\",\n",
        "          \"promedio\" : 9.8,\n",
        "          \"materias\" :[\"EDD\",\"CyP\",\"Calidad\",\"Emprendimiento\"],\n",
        "          \"direccion\" : { \n",
        "                            \"calle\":\"rancho seco\",\n",
        "                            \"numero\" : 23 ,\n",
        "                            \"delegacion\" : \"Neza\",\n",
        "                            \"estado\" : {\n",
        "                                        \"id\" : 15 ,\n",
        "                                        \"nombre\" : \"Estado de Máxico\" ,\n",
        "                                        \"nombre_corto\" : \"EdoMex\"\n",
        "                                        } ,\n",
        "                            \"CP\":57170\n",
        "\n",
        "                        } \n",
        "          }\n",
        "\n",
        "alumno['carrera'] = 'Ingeniería en Computacion'\n",
        "\n",
        "print(alumno)\n",
        "\n",
        "alumno['Nombre completo'] = {\n",
        "    'Primer nombre' : 'Juan',\n",
        "    'Segundo nombre' : 'Pedro',\n",
        "    'Apellido Paterno' : 'Pérez',\n",
        "    'Apellido Materno' : 'Gómez'\n",
        "}\n",
        "alumno['Semestre'] = 'Tercero'\n",
        "\n",
        "print(alumno)\n",
        "print(f\"{alumno['Nombre completo']['Primer nombre']} {alumno['Nombre completo']['Segundo nombre']} {alumno['Nombre completo']['Apellido Paterno']} {alumno['Nombre completo']['Apellido Materno']}\")\n",
        "\n"
      ],
      "execution_count": 9,
      "outputs": [
        {
          "output_type": "stream",
          "text": [
            "{'num_cta': 303030303, 'carrera': 'Ingeniería en Computacion', 'promedio': 9.8, 'materias': ['EDD', 'CyP', 'Calidad', 'Emprendimiento'], 'direccion': {'calle': 'rancho seco', 'numero': 23, 'delegacion': 'Neza', 'estado': {'id': 15, 'nombre': 'Estado de Máxico', 'nombre_corto': 'EdoMex'}, 'CP': 57170}}\n",
            "{'num_cta': 303030303, 'carrera': 'Ingeniería en Computacion', 'promedio': 9.8, 'materias': ['EDD', 'CyP', 'Calidad', 'Emprendimiento'], 'direccion': {'calle': 'rancho seco', 'numero': 23, 'delegacion': 'Neza', 'estado': {'id': 15, 'nombre': 'Estado de Máxico', 'nombre_corto': 'EdoMex'}, 'CP': 57170}, 'Nombre completo': {'Primer nombre': 'Juan', 'Segundo nombre': 'Pedro', 'Apellido Paterno': 'Pérez', 'Apellido Materno': 'Gómez'}, 'Semestre': 'Tercero'}\n",
            "Juan Pedro Pérez Gómez\n"
          ],
          "name": "stdout"
        }
      ]
    },
    {
      "cell_type": "markdown",
      "metadata": {
        "id": "S6PqKtZByYZT"
      },
      "source": [
        "## keys( ), values( ) y items( )"
      ]
    },
    {
      "cell_type": "code",
      "metadata": {
        "id": "MQcMPWSNx9lG",
        "outputId": "92b494e8-dde5-491c-f4b5-cdd0ab6c9c88",
        "colab": {
          "base_uri": "https://localhost:8080/",
          "height": 428
        }
      },
      "source": [
        "\n",
        "print(alumno.keys())\n",
        "for llave in alumno.keys():\n",
        "  print(llave.upper())\n",
        "\n",
        "for valor in alumno.values():\n",
        "  print(valor)\n",
        "\n",
        "print(alumno.items())\n",
        "\n",
        "for item in alumno.items():\n",
        "  print(f\"El campo {item[0]} tiene el valor {item[1]}\")"
      ],
      "execution_count": 28,
      "outputs": [
        {
          "output_type": "stream",
          "text": [
            "dict_keys(['num_cta', 'carrera', 'promedio', 'materias', 'direccion', 'Nombre completo', 'Semestre'])\n",
            "NUM_CTA\n",
            "CARRERA\n",
            "PROMEDIO\n",
            "MATERIAS\n",
            "DIRECCION\n",
            "NOMBRE COMPLETO\n",
            "SEMESTRE\n",
            "303030303\n",
            "Ingeniería en Computacion\n",
            "9.8\n",
            "['EDD', 'CyP', 'Calidad', 'Emprendimiento']\n",
            "{'calle': 'rancho seco', 'numero': 23, 'delegacion': 'Neza', 'estado': {'id': 15, 'nombre': 'Estado de Máxico', 'nombre_corto': 'EdoMex'}, 'CP': 57170}\n",
            "{'Primer nombre': 'Juan', 'Segundo nombre': 'Pedro', 'Apellido Paterno': 'Pérez', 'Apellido Materno': 'Gómez'}\n",
            "Tercero\n",
            "dict_items([('num_cta', 303030303), ('carrera', 'Ingeniería en Computacion'), ('promedio', 9.8), ('materias', ['EDD', 'CyP', 'Calidad', 'Emprendimiento']), ('direccion', {'calle': 'rancho seco', 'numero': 23, 'delegacion': 'Neza', 'estado': {'id': 15, 'nombre': 'Estado de Máxico', 'nombre_corto': 'EdoMex'}, 'CP': 57170}), ('Nombre completo', {'Primer nombre': 'Juan', 'Segundo nombre': 'Pedro', 'Apellido Paterno': 'Pérez', 'Apellido Materno': 'Gómez'}), ('Semestre', 'Tercero')])\n",
            "El campo num_cta tiene el valor 303030303\n",
            "El campo carrera tiene el valor Ingeniería en Computacion\n",
            "El campo promedio tiene el valor 9.8\n",
            "El campo materias tiene el valor ['EDD', 'CyP', 'Calidad', 'Emprendimiento']\n",
            "El campo direccion tiene el valor {'calle': 'rancho seco', 'numero': 23, 'delegacion': 'Neza', 'estado': {'id': 15, 'nombre': 'Estado de Máxico', 'nombre_corto': 'EdoMex'}, 'CP': 57170}\n",
            "El campo Nombre completo tiene el valor {'Primer nombre': 'Juan', 'Segundo nombre': 'Pedro', 'Apellido Paterno': 'Pérez', 'Apellido Materno': 'Gómez'}\n",
            "El campo Semestre tiene el valor Tercero\n"
          ],
          "name": "stdout"
        }
      ]
    },
    {
      "cell_type": "markdown",
      "metadata": {
        "id": "-lonpHEU1ZLP"
      },
      "source": [
        "## Concatenar 2 diccionarios"
      ]
    },
    {
      "cell_type": "code",
      "metadata": {
        "id": "MNr9YLGj08Hq",
        "outputId": "4df5dfa4-c39f-490b-84e4-da5b5c36677e",
        "colab": {
          "base_uri": "https://localhost:8080/",
          "height": 34
        }
      },
      "source": [
        "computadora = {\n",
        "    'Procesador' : 'Intel i7',\n",
        "    'RAM' : 'Kingston 128 GB',\n",
        "}\n",
        "\n",
        "otros = {\n",
        "    'Monitor' : 'LG 49\\\" ',\n",
        "    'HDD' : 'Toshiba 1TB'\n",
        "}\n",
        "computadora.update(otros)\n",
        "print(computadora)"
      ],
      "execution_count": 32,
      "outputs": [
        {
          "output_type": "stream",
          "text": [
            "{'Procesador': 'Intel i7', 'RAM': 'Kingston 128 GB', 'Monitor': 'LG 49\" ', 'HDD': 'Toshiba 1TB'}\n"
          ],
          "name": "stdout"
        }
      ]
    },
    {
      "cell_type": "markdown",
      "metadata": {
        "id": "9xkKODbH2q_i"
      },
      "source": [
        "# Funciones\n",
        "- Unidades de código reutilizable\n",
        "- Mecanismo de organización de código\n",
        "- Toma de 0 a n parámetros de entrada\n",
        "- Tiene una sola salida de cualquier tipo de dato (return)\n",
        "- Solo se pueden hacer 2 cosas:\n",
        " - Definirlas\n",
        " - Llamarlas"
      ]
    },
    {
      "cell_type": "code",
      "metadata": {
        "id": "fHx8SS0c2yNV",
        "outputId": "0851d5ec-2ac5-43e0-9f74-50b406eaf7f6",
        "colab": {
          "base_uri": "https://localhost:8080/",
          "height": 51
        }
      },
      "source": [
        "def sumar(x, y):\n",
        "  resultado = x + y\n",
        "  return resultado\n",
        "\n",
        "def saludar(nombre):\n",
        "  print(f\"Hola {nombre}, ¿cómo estás?\")\n",
        "  return None\n",
        "\n",
        "print(sumar(10, 15))\n",
        "saludar('Nicolas')"
      ],
      "execution_count": 50,
      "outputs": [
        {
          "output_type": "stream",
          "text": [
            "25\n",
            "Hola Nicolas, ¿cómo estás?\n"
          ],
          "name": "stdout"
        }
      ]
    },
    {
      "cell_type": "code",
      "metadata": {
        "id": "DMN_Txwu6cK8",
        "outputId": "7c4c859e-432d-42b8-a4bd-e6d0be198c9c",
        "colab": {
          "base_uri": "https://localhost:8080/",
          "height": 51
        }
      },
      "source": [
        "#Procesar un none\n",
        "def multiplicar(valor, veces):\n",
        "  if valor != None:\n",
        "    c = valor * veces\n",
        "  else:\n",
        "    c = 'Operación no valida'\n",
        "  return c\n",
        "\n",
        "print(multiplicar(5, 6))\n",
        "print(multiplicar(None, 5))"
      ],
      "execution_count": 45,
      "outputs": [
        {
          "output_type": "stream",
          "text": [
            "30\n",
            "Operación no valida\n"
          ],
          "name": "stdout"
        }
      ]
    },
    {
      "cell_type": "code",
      "metadata": {
        "id": "Q6wA_PcN7UyK",
        "outputId": "73c00073-b332-4e66-85cc-d939a64d406f",
        "colab": {
          "base_uri": "https://localhost:8080/",
          "height": 68
        }
      },
      "source": [
        "def operacion(a, b, c):\n",
        "  resultado = a + (b / c)\n",
        "  return resultado\n",
        "\n",
        "print(operacion(2, 9, 3))\n",
        "print(operacion(2, 3, 9))\n",
        "print(operacion(a = 2, c = 3, b = 9))"
      ],
      "execution_count": 53,
      "outputs": [
        {
          "output_type": "stream",
          "text": [
            "5.0\n",
            "2.3333333333333335\n",
            "5.0\n"
          ],
          "name": "stdout"
        }
      ]
    },
    {
      "cell_type": "markdown",
      "metadata": {
        "id": "CDYKnqQR9626"
      },
      "source": [
        "## Valores por defecto"
      ]
    },
    {
      "cell_type": "code",
      "metadata": {
        "id": "eXQBPbUB99ri",
        "outputId": "c442ae6b-051e-48bb-f90d-0992ac84b009",
        "colab": {
          "base_uri": "https://localhost:8080/",
          "height": 153
        }
      },
      "source": [
        "def comanda(primer, fuerte, postre = 'Galletas'):\n",
        "  print(f\"De entrada pidió: {primer}\\nDe plato fuerte pidió: {fuerte}\\nDe postre pidió: {postre}\\n\")\n",
        "\n",
        "comanda('Sopa aguada', 'Tortas de papa', 'Gelatina de limón')\n",
        "comanda('Sopa aguada', 'Tortas de papa')"
      ],
      "execution_count": 60,
      "outputs": [
        {
          "output_type": "stream",
          "text": [
            "De entrada pidió: Sopa aguada\n",
            "De plato fuerte pidió: Tortas de papa\n",
            "De postre pidió: Gelatina de limón\n",
            "\n",
            "De entrada pidió: Sopa aguada\n",
            "De plato fuerte pidió: Tortas de papa\n",
            "De postre pidió: Galletas\n",
            "\n"
          ],
          "name": "stdout"
        }
      ]
    },
    {
      "cell_type": "markdown",
      "metadata": {
        "id": "xcg4KyI-_o2j"
      },
      "source": [
        "## Argumentos posicionales con tuplas *"
      ]
    },
    {
      "cell_type": "code",
      "metadata": {
        "id": "cmcJLRpb_tr1",
        "outputId": "5cefe59b-79c6-4e47-dfec-b8e2914ea156",
        "colab": {
          "base_uri": "https://localhost:8080/",
          "height": 136
        }
      },
      "source": [
        "def comanda2( *opciones):\n",
        "  print(opciones)\n",
        "  print(f\"De entrada pidió: {opciones[0]}\\nDe plato fuerte pidió: {opciones[1]}\\nDe postre pidió: {opciones[2]}\\nIndicaciones extra:\")\n",
        "  for indicacion in opciones[3::]:\n",
        "    print(f\"\\t{indicacion}\")\n",
        "\n",
        "comanda2('Sopa aguada', 'Tortas de papa', 'Gelatina de limón', 'Las tortas bien doradas', 'Traer 2 limones')"
      ],
      "execution_count": 66,
      "outputs": [
        {
          "output_type": "stream",
          "text": [
            "('Sopa aguada', 'Tortas de papa', 'Gelatina de limón', 'Las tortas bien doradas', 'Traer 2 limones')\n",
            "De entrada pidió: Sopa aguada\n",
            "De plato fuerte pidió: Tortas de papa\n",
            "De postre pidió: Gelatina de limón\n",
            "Indicaciones extra:\n",
            "\tLas tortas bien doradas\n",
            "\tTraer 2 limones\n"
          ],
          "name": "stdout"
        }
      ]
    },
    {
      "cell_type": "markdown",
      "metadata": {
        "id": "tWS_9n9WBwjq"
      },
      "source": [
        "## Argumentos posicionales con diccionarios **"
      ]
    },
    {
      "cell_type": "code",
      "metadata": {
        "id": "MgIK7-ggB3Rq",
        "outputId": "f7dbcd96-a82f-4de7-ea67-2c21fb090457",
        "colab": {
          "base_uri": "https://localhost:8080/",
          "height": 136
        }
      },
      "source": [
        "def comanda3(**opciones):\n",
        "  print(opciones)\n",
        "  for opcion in opciones.items():\n",
        "    print(f\"{opcion[0]}: {opcion[1]}\")\n",
        "       \n",
        "\n",
        "comanda3(primer = 'Sopa aguada', fuerte = 'Tortas de papa', postre = 'Gelatina de limón', extra1 = 'Las tortas bien doradas', extra2 = 'Traer 2 limones', extra3 = 'Agua con hielo')"
      ],
      "execution_count": 75,
      "outputs": [
        {
          "output_type": "stream",
          "text": [
            "{'primer': 'Sopa aguada', 'fuerte': 'Tortas de papa', 'postre': 'Gelatina de limón', 'extra1': 'Las tortas bien doradas', 'extra2': 'Traer 2 limones', 'extra3': 'Agua con hielo'}\n",
            "primer: Sopa aguada\n",
            "fuerte: Tortas de papa\n",
            "postre: Gelatina de limón\n",
            "extra1: Las tortas bien doradas\n",
            "extra2: Traer 2 limones\n",
            "extra3: Agua con hielo\n"
          ],
          "name": "stdout"
        }
      ]
    }
  ]
}