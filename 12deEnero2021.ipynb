{
  "nbformat": 4,
  "nbformat_minor": 0,
  "metadata": {
    "colab": {
      "name": "12deEnero2021.ipynb",
      "provenance": [],
      "authorship_tag": "ABX9TyPJNpOIvEco11lMTN6DAs+8",
      "include_colab_link": true
    },
    "kernelspec": {
      "name": "python3",
      "display_name": "Python 3"
    }
  },
  "cells": [
    {
      "cell_type": "markdown",
      "metadata": {
        "id": "view-in-github",
        "colab_type": "text"
      },
      "source": [
        "<a href=\"https://colab.research.google.com/github/NicolasGonzalez-T/edd_1310_2021/blob/master/12deEnero2021.ipynb\" target=\"_parent\"><img src=\"https://colab.research.google.com/assets/colab-badge.svg\" alt=\"Open In Colab\"/></a>"
      ]
    },
    {
      "cell_type": "code",
      "metadata": {
        "colab": {
          "base_uri": "https://localhost:8080/"
        },
        "id": "iKIoVvPi4ZPg",
        "outputId": "e7d4de5f-8247-487e-f287-43d0999ae8ac"
      },
      "source": [
        "def factorial( n ):\r\n",
        "    if n == 0:\r\n",
        "        return 1\r\n",
        "    else:\r\n",
        "        return ( factorial( n - 1 ) * n )\r\n",
        "def printRev( n ):\r\n",
        "    if n > 0:\r\n",
        "        printRev( n - 1)\r\n",
        "        print(n)\r\n",
        "\r\n",
        "def main():\r\n",
        "    for num in range (1, 11):\r\n",
        "        r = factorial( num )\r\n",
        "        print(f\"El factorial de {num} es {r}\")\r\n",
        "\r\n",
        "def fibonacci( n ):\r\n",
        "    if n == 0 or n == 1:\r\n",
        "        return n\r\n",
        "    if n > 1:\r\n",
        "        return ( fibonacci( n - 1) + fibonacci(n - 2) )\r\n",
        "\r\n",
        "def main2():\r\n",
        "    printRev( 3 )\r\n",
        "\r\n",
        "def main3():\r\n",
        "    num = 0\r\n",
        "    for num in range(11):\r\n",
        "        print( str(fibonacci(num)) + \",\", end = \"\" )\r\n",
        "    print(\"\")\r\n",
        "\r\n",
        "print(\"Factorial: \")\r\n",
        "main()\r\n",
        "print(\"\\nprintRev: \")\r\n",
        "main2()\r\n",
        "print(\"\\nFibonacci\")\r\n",
        "main3()"
      ],
      "execution_count": 2,
      "outputs": [
        {
          "output_type": "stream",
          "text": [
            "Factorial: \n",
            "El factorial de 1 es 1\n",
            "El factorial de 2 es 2\n",
            "El factorial de 3 es 6\n",
            "El factorial de 4 es 24\n",
            "El factorial de 5 es 120\n",
            "El factorial de 6 es 720\n",
            "El factorial de 7 es 5040\n",
            "El factorial de 8 es 40320\n",
            "El factorial de 9 es 362880\n",
            "El factorial de 10 es 3628800\n",
            "\n",
            "printRev: \n",
            "1\n",
            "2\n",
            "3\n",
            "\n",
            "Fibonacci\n",
            "0,1,1,2,3,5,8,13,21,34,55,\n"
          ],
          "name": "stdout"
        }
      ]
    }
  ]
}