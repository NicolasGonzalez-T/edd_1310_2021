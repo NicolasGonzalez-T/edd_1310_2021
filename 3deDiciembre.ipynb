{
  "nbformat": 4,
  "nbformat_minor": 0,
  "metadata": {
    "colab": {
      "name": "3deDiciembre.ipynb",
      "provenance": [],
      "authorship_tag": "ABX9TyOu/kOjAreEr9B7LOE4vV/9",
      "include_colab_link": true
    },
    "kernelspec": {
      "name": "python3",
      "display_name": "Python 3"
    }
  },
  "cells": [
    {
      "cell_type": "markdown",
      "metadata": {
        "id": "view-in-github",
        "colab_type": "text"
      },
      "source": [
        "<a href=\"https://colab.research.google.com/github/NicolasGonzalez-T/edd_1310_2021/blob/master/3deDiciembre.ipynb\" target=\"_parent\"><img src=\"https://colab.research.google.com/assets/colab-badge.svg\" alt=\"Open In Colab\"/></a>"
      ]
    },
    {
      "cell_type": "code",
      "metadata": {
        "colab": {
          "base_uri": "https://localhost:8080/"
        },
        "id": "C5DWhHh89AVA",
        "outputId": "c966dda4-34ec-4bb4-c92a-5fb0f2697320"
      },
      "source": [
        "from array2d import Array2D\n",
        "from stacks import Stack\n",
        "class Laberinto:\n",
        "    '''\n",
        "    1 -> Pared\n",
        "    0 -> Pasillo\n",
        "    E -> Entrada\n",
        "    S -> Salida\n",
        "    \"pasillos\" es una tupla ( (2, 1), (2, 2), (2, 3), (2, 4), (3, 2), (4, 2) )\n",
        "    Entrada en ( 5, 2 )\n",
        "    Salida en ( 2, 5 )\n",
        "    '''\n",
        "    def __init__( self, rows, cols, pasillos, entrada, salida ):\n",
        "        self.__laberinto = Array2D( rows, cols, '1')\n",
        "        for pasillo in pasillos:\n",
        "            self.__laberinto.set_item( pasillo[0], pasillo[1], '0')\n",
        "        self.set_entrada(entrada[0], entrada[1])\n",
        "        self.set_salida(salida[0], salida[1])\n",
        "        self.__camino = Stack()\n",
        "        self.__previa = None\n",
        "\n",
        "    def to_string( self ):\n",
        "        self.__laberinto.to_string()\n",
        "\n",
        "    # Establece la entrada poniendo una E en la matriz\n",
        "    # Verificar limites de la matriz\n",
        "    def set_entrada( self, row, col):\n",
        "        # Validacion de límites\n",
        "        self.__laberinto.set_item( row, col, 'E')\n",
        "\n",
        "    # Establece la entrada poniendo una S en la matriz\n",
        "    # Verificar limites de la matriz\n",
        "    def set_salida( self, row, col):\n",
        "        #Validacion de limites\n",
        "        self.__laberinto.set_item( row, col, 'S')\n",
        "\n",
        "    # Establece la posicion previa\n",
        "    def set_previa( self ):\n",
        "        pass\n",
        "    # Regresa la posicion previa\n",
        "    def get_previa( self ):\n",
        "        pass\n",
        "\n",
        "    def es_salida( self, row, col ):\n",
        "        return self.__laberinto.get_item( row, col ) == 'S'\n",
        "\n",
        "    def buscar_entrada( self ):\n",
        "        encontrado = False\n",
        "        for renglon in range( self.__laberinto.get_num_rows() ):\n",
        "            for columna in range( self.__laberinto.get_num_cols() ):\n",
        "                if self.__laberinto.get_item( renglon, columna ) == 'E':\n",
        "                    encontrado = True\n",
        "                    self.__camino.push( tuple( (columna, renglon) ) )\n",
        "\n",
        "        return encontrado\n",
        "\n",
        "    def set_previa( self, pos_previa):\n",
        "        self.__previa = pos_previa\n",
        "\n",
        "    def get_previa( self ):\n",
        "        return self.__previa\n",
        "\n",
        "    '''------------------------Reglas--------------------------------------------------'''\n",
        "    # Evaluar pasillos en sentido de las manecillas del reloj empezando desde la izquierda\n",
        "    # Ignorar las posiciones en donde ya se estuvo\n",
        "    # Si ya no hay pasillos disponibles, hacer backtracking\n",
        "    def resolver( self ):\n",
        "        pass\n",
        "\n",
        "\n",
        "pasillos_inicial = ( (2, 1), (2, 2), (2, 3), (2, 4), (3, 2), (4, 2) )\n",
        "lab = Laberinto(6, 6, pasillos_inicial, (5, 2), (2, 5))\n",
        "lab.to_string()\n",
        "\n",
        "print(lab.buscar_entrada())"
      ],
      "execution_count": 4,
      "outputs": [
        {
          "output_type": "stream",
          "text": [
            "------------------\n",
            "['1', '1', '1', '1', '1', '1']\n",
            "['1', '1', '1', '1', '1', '1']\n",
            "['1', '0', '0', '0', '0', 'S']\n",
            "['1', '1', '0', '1', '1', '1']\n",
            "['1', '1', '0', '1', '1', '1']\n",
            "['1', '1', 'E', '1', '1', '1']\n",
            "------------------\n",
            "True\n"
          ],
          "name": "stdout"
        }
      ]
    }
  ]
}