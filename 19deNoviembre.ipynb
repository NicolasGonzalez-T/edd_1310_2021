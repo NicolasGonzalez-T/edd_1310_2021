{
  "nbformat": 4,
  "nbformat_minor": 0,
  "metadata": {
    "colab": {
      "name": "19deNoviembre.ipynb",
      "provenance": [],
      "authorship_tag": "ABX9TyMZkNbyMhHYAanDb8pgl1e3",
      "include_colab_link": true
    },
    "kernelspec": {
      "name": "python3",
      "display_name": "Python 3"
    }
  },
  "cells": [
    {
      "cell_type": "markdown",
      "metadata": {
        "id": "view-in-github",
        "colab_type": "text"
      },
      "source": [
        "<a href=\"https://colab.research.google.com/github/NicolasGonzalez-T/edd_1310_2021/blob/master/19deNoviembre.ipynb\" target=\"_parent\"><img src=\"https://colab.research.google.com/assets/colab-badge.svg\" alt=\"Open In Colab\"/></a>"
      ]
    },
    {
      "cell_type": "code",
      "metadata": {
        "colab": {
          "base_uri": "https://localhost:8080/"
        },
        "id": "nDvD6a8Z2xKH",
        "outputId": "c4b1035b-c463-4557-c2f9-06eda210b648"
      },
      "source": [
        "from listas import LinkedList\n",
        "\n",
        "l = LinkedList()\n",
        "print(f\"L esta vacía? { l.is_empty() }\")\n",
        "l.append( 10 )\n",
        "l.append( 5 )\n",
        "l.append( 6 )\n",
        "l.append( 20 )\n",
        "print(f\"L esta vacía? { l.is_empty() }\")\n",
        "l.transversal()\n",
        "\n",
        "#Quita el 6\n",
        "l.remove(6)\n",
        "l.transversal()\n",
        "#Intenta quitar un valor que no existe\n",
        "l.remove(80)\n",
        "#Quita head\n",
        "l.remove(10)\n",
        "l.transversal()\n",
        "#Probando preppend\n",
        "l.preppend(3)\n",
        "l.transversal()\n",
        "#Probando tail()\n",
        "x = l.tail()\n",
        "print(x.data)\n",
        "print(l.get())\n"
      ],
      "execution_count": 1,
      "outputs": [
        {
          "output_type": "stream",
          "text": [
            "L esta vacía? True\n",
            "L esta vacía? False\n",
            "10 ----> 5 ----> 6 ----> 20 ----> \n",
            "10 ----> 5 ----> 20 ----> \n",
            "El dato no fue encontrado en la lista\n",
            "5 ----> 20 ----> \n",
            "3 ----> 5 ----> 20 ----> \n",
            "20\n",
            "20\n"
          ],
          "name": "stdout"
        }
      ]
    }
  ]
}