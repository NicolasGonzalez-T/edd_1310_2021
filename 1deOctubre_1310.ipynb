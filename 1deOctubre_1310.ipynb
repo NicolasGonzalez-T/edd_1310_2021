{
  "nbformat": 4,
  "nbformat_minor": 0,
  "metadata": {
    "colab": {
      "name": "1deOctubre_1310.ipynb",
      "provenance": [],
      "toc_visible": true,
      "authorship_tag": "ABX9TyM8NXiLnQPN+eUdkvs29BN3",
      "include_colab_link": true
    },
    "kernelspec": {
      "name": "python3",
      "display_name": "Python 3"
    }
  },
  "cells": [
    {
      "cell_type": "markdown",
      "metadata": {
        "id": "view-in-github",
        "colab_type": "text"
      },
      "source": [
        "<a href=\"https://colab.research.google.com/github/NicolasGonzalez-T/edd_1310_2021/blob/master/1deOctubre_1310.ipynb\" target=\"_parent\"><img src=\"https://colab.research.google.com/assets/colab-badge.svg\" alt=\"Open In Colab\"/></a>"
      ]
    },
    {
      "cell_type": "markdown",
      "metadata": {
        "id": "zCBkNShu7spO"
      },
      "source": [
        "# Introducción a Python 3\n"
      ]
    },
    {
      "cell_type": "markdown",
      "metadata": {
        "id": "GSAJB7mIDt9C"
      },
      "source": [
        "## Variables\n",
        "\n",
        "Las variables son de tipo dinámico, se declaran automáticamente el tipo de dato\n",
        "\n",
        "**Ejemplo**\n",
        "\n",
        "escuela = \"FES Aragon\"\n",
        "\n",
        "Automáticamente lo detecta como string"
      ]
    },
    {
      "cell_type": "code",
      "metadata": {
        "id": "vOObmG8n8LGG",
        "outputId": "51b5814d-f6bd-4230-aeeb-9ad8cca511ce",
        "colab": {
          "base_uri": "https://localhost:8080/",
          "height": 289
        }
      },
      "source": [
        "#Cadenas\n",
        "escuela = 'FES Aragon'\n",
        "print(escuela)\n",
        "print(\"----------\")\n",
        "''' De multiple linea '''\n",
        "frase = \"\"\"\n",
        "Frase\n",
        "de\n",
        "multiple\n",
        "linea\n",
        "y\n",
        "es\n",
        "un\n",
        "tipo\n",
        "de\n",
        "dato\n",
        "\"\"\"\n",
        "\n",
        "#Enteros\n",
        "edad = 18\n",
        "\n",
        "#Flotantes\n",
        "altura = 1.71\n",
        "\n",
        "#Booleanos\n",
        "Fumador = False\n",
        "\n",
        "print(frase)\n",
        "print(edad)\n",
        "print(altura)"
      ],
      "execution_count": 4,
      "outputs": [
        {
          "output_type": "stream",
          "text": [
            "FES Aragon\n",
            "----------\n",
            "\n",
            "Frase\n",
            "de\n",
            "multiple\n",
            "linea\n",
            "y\n",
            "es\n",
            "un\n",
            "tipo\n",
            "de\n",
            "dato\n",
            "\n",
            "18\n",
            "1.71\n"
          ],
          "name": "stdout"
        }
      ]
    },
    {
      "cell_type": "markdown",
      "metadata": {
        "id": "wGxB_TaD99dQ"
      },
      "source": [
        "## Print\n",
        "Con comas\n",
        "\n",
        "Con el signo +\n",
        "\n",
        "Con format()\n",
        "\n",
        "Con el operador f\"\""
      ]
    },
    {
      "cell_type": "code",
      "metadata": {
        "id": "t38LT3pb-HlJ",
        "outputId": "cb7625e1-4c13-417f-9593-98d1e48b9ea5",
        "colab": {
          "base_uri": "https://localhost:8080/",
          "height": 34
        }
      },
      "source": [
        "nombre = \"jose cardenas\"\n",
        "edad = 13\n",
        "print(nombre, edad)"
      ],
      "execution_count": 29,
      "outputs": [
        {
          "output_type": "stream",
          "text": [
            "jose cardenas 13\n"
          ],
          "name": "stdout"
        }
      ]
    },
    {
      "cell_type": "code",
      "metadata": {
        "id": "o06OirZjAwY9",
        "outputId": "e1625381-1278-4f5b-bb63-18c4426d4974",
        "colab": {
          "base_uri": "https://localhost:8080/",
          "height": 34
        }
      },
      "source": [
        "#Concatenacion\n",
        "print(nombre + str(edad))  #Concatena únicamente las cadenas"
      ],
      "execution_count": 9,
      "outputs": [
        {
          "output_type": "stream",
          "text": [
            "jose13\n"
          ],
          "name": "stdout"
        }
      ]
    },
    {
      "cell_type": "code",
      "metadata": {
        "id": "zEvxABoQAx7r",
        "outputId": "077f1d27-e37d-4f29-afc2-d3dededa216a",
        "colab": {
          "base_uri": "https://localhost:8080/",
          "height": 51
        }
      },
      "source": [
        "#Con formato \"Su nombre es jose y su edad es 13 años\"\n",
        "print(\"Su nombre es {0} y su edad es de {1} años\".format(nombre, edad) )\n",
        "print(\"Su nombre es %s y su edad es de %i años\" % (nombre, edad) )"
      ],
      "execution_count": 14,
      "outputs": [
        {
          "output_type": "stream",
          "text": [
            "Su nombre es jose y su edad es de 13 años\n",
            "Su nombre es jose y su edad es de 13 años\n"
          ],
          "name": "stdout"
        }
      ]
    },
    {
      "cell_type": "code",
      "metadata": {
        "id": "bSKZX-7YB0tK",
        "outputId": "e8b48c94-36de-4e37-c64e-85e1c47c3dc3",
        "colab": {
          "base_uri": "https://localhost:8080/",
          "height": 34
        }
      },
      "source": [
        "#Con el operador f\"\"\n",
        "print(f\"Su nombre es {nombre} y su edad es {edad} años\")"
      ],
      "execution_count": 15,
      "outputs": [
        {
          "output_type": "stream",
          "text": [
            "Su nombre es jose y su edad es 13 años\n"
          ],
          "name": "stdout"
        }
      ]
    },
    {
      "cell_type": "markdown",
      "metadata": {
        "id": "E1wbtaQKCR1e"
      },
      "source": [
        "## Caracter de escape\n",
        "\n",
        " \\n  ---> Da un salto de linea\n",
        "\n",
        " \\t  ---> Mete un tab\n",
        "\n",
        " \\\\\"  ---> Pone las comillas \"\n",
        "\n",
        " \\a  ---> Da un beep (Solo en computadoras viejas)\n",
        "\n",
        " \\\\\\  ---> Pone la diagonal invertida \\\n"
      ]
    },
    {
      "cell_type": "markdown",
      "metadata": {
        "id": "mMGjNYbiDxVy"
      },
      "source": [
        "## Ayuda de tipos de dato en Python\n",
        "\n",
        "dir()  ---> Te dice los métodos de cada clase\n",
        "\n",
        "help() ---> Como el dir(), pero a más detalle"
      ]
    },
    {
      "cell_type": "code",
      "metadata": {
        "id": "dwS6H4DdEThr"
      },
      "source": [
        "# str, int, float, bool ...\n",
        "help(int)"
      ],
      "execution_count": null,
      "outputs": []
    },
    {
      "cell_type": "code",
      "metadata": {
        "id": "6MzNd0vkFOZv",
        "outputId": "2a7995eb-e00e-4845-c964-74ea30d5b49a",
        "colab": {
          "base_uri": "https://localhost:8080/",
          "height": 51
        }
      },
      "source": [
        "print(nombre.capitalize())\n",
        "print(nombre.upper(), end = \" <-----> \")\n",
        "print(nombre.title())"
      ],
      "execution_count": 37,
      "outputs": [
        {
          "output_type": "stream",
          "text": [
            "Jose cardenas\n",
            "JOSE CARDENAS <-----> Jose Cardenas\n"
          ],
          "name": "stdout"
        }
      ]
    },
    {
      "cell_type": "code",
      "metadata": {
        "id": "xtniFFOaGB6K"
      },
      "source": [
        "help(print)"
      ],
      "execution_count": null,
      "outputs": []
    },
    {
      "cell_type": "markdown",
      "metadata": {
        "id": "d-v63SqtGxci"
      },
      "source": [
        "## Clase String\n",
        "\n",
        "Es manejada como un arreglo (C o Java) o lista (Python)"
      ]
    },
    {
      "cell_type": "code",
      "metadata": {
        "id": "j4YYxbxAHv7U",
        "outputId": "9361ef1d-30d9-45c8-8586-79d93f73ff6b",
        "colab": {
          "base_uri": "https://localhost:8080/",
          "height": 34
        }
      },
      "source": [
        "telefono = \"Huawei mate pro\"\n",
        "print(telefono[0])"
      ],
      "execution_count": 42,
      "outputs": [
        {
          "output_type": "stream",
          "text": [
            "H\n"
          ],
          "name": "stdout"
        }
      ]
    },
    {
      "cell_type": "markdown",
      "metadata": {
        "id": "r_1VKc0MIKUf"
      },
      "source": [
        "### Slicing (rebanado)\n",
        "\n",
        "Se usa primero el selector [`inico`, `final`, `incremento`] (El inicio y el incremento son opcionales)"
      ]
    },
    {
      "cell_type": "code",
      "metadata": {
        "id": "c6jlqmxlIxCV",
        "outputId": "f6669b10-3dcc-4235-94e1-7a019c83fdd7",
        "colab": {
          "base_uri": "https://localhost:8080/",
          "height": 85
        }
      },
      "source": [
        "print(telefono[7:11])\n",
        "\n",
        "#invertir una cadena\n",
        "print(telefono[::-1])\n",
        "\n",
        "#incremento negativo\n",
        "print(telefono[:-4:-1])\n",
        "\n",
        "#indice negativo\n",
        "print(telefono[-3::1])"
      ],
      "execution_count": 48,
      "outputs": [
        {
          "output_type": "stream",
          "text": [
            "mate\n",
            "orp etam iewauH\n",
            "orp\n",
            "pro\n"
          ],
          "name": "stdout"
        }
      ]
    },
    {
      "cell_type": "markdown",
      "metadata": {
        "id": "D_3fl5-UNMXR"
      },
      "source": [
        "### Metodos de String\n",
        "\n",
        "Existen varios métodos muy útiles en esta clase"
      ]
    },
    {
      "cell_type": "code",
      "metadata": {
        "id": "a5EMzkHoNYK9",
        "outputId": "3ef514a9-0f63-413b-db1a-2359df3bb9c4",
        "colab": {
          "base_uri": "https://localhost:8080/",
          "height": 136
        }
      },
      "source": [
        "facultad = \"     facultad de estudios superiores aragon      \\n\"\n",
        "print(facultad)\n",
        "print(facultad.count(\"s\"))  #cuenta el numero de elementos de la cadena\n",
        "print(facultad.find(\"s\"))   #Da el indice de la letra entre parentesis hasta al primera coincidencia\n",
        "print(facultad.strip() )    #Remueve los espacios en blanco al principio y al final y los saltos de linea\n",
        "\n",
        "print(facultad.split(\"t\"))  #Corta la cadena usando un caracter como referencia\n",
        "print(facultad.strip().split(\" \"))"
      ],
      "execution_count": 69,
      "outputs": [
        {
          "output_type": "stream",
          "text": [
            "     facultad de estudios superiores aragon      \n",
            "\n",
            "4\n",
            "18\n",
            "facultad de estudios superiores aragon\n",
            "['     facul', 'ad de es', 'udios superiores aragon      \\n']\n",
            "['facultad', 'de', 'estudios', 'superiores', 'aragon']\n"
          ],
          "name": "stdout"
        }
      ]
    }
  ]
}