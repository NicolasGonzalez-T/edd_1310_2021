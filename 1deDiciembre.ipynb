{
  "nbformat": 4,
  "nbformat_minor": 0,
  "metadata": {
    "colab": {
      "name": "1deDiciembre.ipynb",
      "provenance": [],
      "authorship_tag": "ABX9TyPajhtf17gK2fgZSWcWSmeg",
      "include_colab_link": true
    },
    "kernelspec": {
      "name": "python3",
      "display_name": "Python 3"
    }
  },
  "cells": [
    {
      "cell_type": "markdown",
      "metadata": {
        "id": "view-in-github",
        "colab_type": "text"
      },
      "source": [
        "<a href=\"https://colab.research.google.com/github/NicolasGonzalez-T/edd_1310_2021/blob/master/1deDiciembre.ipynb\" target=\"_parent\"><img src=\"https://colab.research.google.com/assets/colab-badge.svg\" alt=\"Open In Colab\"/></a>"
      ]
    },
    {
      "cell_type": "code",
      "metadata": {
        "colab": {
          "base_uri": "https://localhost:8080/"
        },
        "id": "MWigi5SNrVmH",
        "outputId": "b76884b2-c810-4b28-a8ee-7b6f2f63ef29"
      },
      "source": [
        "class Array2D:\n",
        "    def __init__(self,rows, cols, value):\n",
        "        self.__cols = cols\n",
        "        self.__rows = rows\n",
        "        self.__array=[[value for x in range(self.__cols)] for y in range(self.__rows)]\n",
        "\n",
        "    def to_string(self):\n",
        "        [print(\"---\",end=\"\") for x in range(self.__cols)]\n",
        "        print(\"\")\n",
        "        for ren in self.__array:\n",
        "            print(ren)\n",
        "        [print(\"---\",end=\"\") for x in range(self.__cols)]\n",
        "        print(\"\")\n",
        "\n",
        "    def get_num_rows(self):\n",
        "        return self.__rows\n",
        "\n",
        "    def get_num_cols(self):\n",
        "        return self.__cols\n",
        "\n",
        "    def get_item(self,row,col):\n",
        "        return self.__array[row][col]\n",
        "\n",
        "    def set_item( self , row , col , valor ):\n",
        "        self.__array[row][col]=valor\n",
        "\n",
        "    def clearing(self, valor=0):\n",
        "        for ren in range(self.__rows):\n",
        "            for col in range(self.__cols):\n",
        "                self.__array[ren][col]=valor\n",
        "\n",
        "class Laberinto:\n",
        "    '''\n",
        "    1 -> Pared\n",
        "    0 -> Pasillo\n",
        "    E -> Entrada\n",
        "    S -> Salida\n",
        "    \"pasillos\" es una tupla ( (2, 1), (2, 2), (2, 3), (2, 4), (3, 2), (4, 2) )\n",
        "    '''\n",
        "    def __init__( self, rows, cols, pasillos ):\n",
        "        self.__laberinto = Array2D( rows, cols, '1')\n",
        "        for pasillo in pasillos:\n",
        "            self.__laberinto.set_item( pasillo[0], pasillo[1], '0')\n",
        "\n",
        "    def to_string( self ):\n",
        "        self.__laberinto.to_string()\n",
        "\n",
        "pasillos_inicial = ( (2, 1), (2, 2), (2, 3), (2, 4), (3, 2), (4, 2) )\n",
        "lab = Laberinto(6, 6, pasillos_inicial)\n",
        "lab.to_string()"
      ],
      "execution_count": 16,
      "outputs": [
        {
          "output_type": "stream",
          "text": [
            "------------------\n",
            "['1', '1', '1', '1', '1', '1']\n",
            "['1', '1', '1', '1', '1', '1']\n",
            "['1', '0', '0', '0', '0', '1']\n",
            "['1', '1', '0', '1', '1', '1']\n",
            "['1', '1', '0', '1', '1', '1']\n",
            "['1', '1', '1', '1', '1', '1']\n",
            "------------------\n"
          ],
          "name": "stdout"
        }
      ]
    }
  ]
}