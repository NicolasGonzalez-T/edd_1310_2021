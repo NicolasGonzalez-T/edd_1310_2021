{
  "nbformat": 4,
  "nbformat_minor": 0,
  "metadata": {
    "colab": {
      "name": "19deEnero2021.ipynb",
      "provenance": [],
      "authorship_tag": "ABX9TyPm9f7YXYjPUWfvkwRY+l8t",
      "include_colab_link": true
    },
    "kernelspec": {
      "name": "python3",
      "display_name": "Python 3"
    }
  },
  "cells": [
    {
      "cell_type": "markdown",
      "metadata": {
        "id": "view-in-github",
        "colab_type": "text"
      },
      "source": [
        "<a href=\"https://colab.research.google.com/github/NicolasGonzalez-T/edd_1310_2021/blob/master/19deEnero2021.ipynb\" target=\"_parent\"><img src=\"https://colab.research.google.com/assets/colab-badge.svg\" alt=\"Open In Colab\"/></a>"
      ]
    },
    {
      "cell_type": "code",
      "metadata": {
        "colab": {
          "base_uri": "https://localhost:8080/"
        },
        "id": "iqFuV0pOp6di",
        "outputId": "917846fb-de7d-42d6-8764-412a057ef897"
      },
      "source": [
        "class NodoArbol:\r\n",
        "    def __init__( self, value, left = None, right = None):\r\n",
        "        self.data = value\r\n",
        "        self.left = left\r\n",
        "        self.right = right\r\n",
        "\r\n",
        "class BinarySearchTree:\r\n",
        "    def __init__( self ):\r\n",
        "        self.__root = None\r\n",
        "\r\n",
        "    def insert( self, value):\r\n",
        "        curr_node = self.__root\r\n",
        "        #Caso 1: El arbol está vacío\r\n",
        "        if self.__root is None:\r\n",
        "            self.__root = NodoArbol( value )\r\n",
        "\r\n",
        "        #Caso 2: El árbol no está vacío\r\n",
        "        else:\r\n",
        "            self.__insert__( self.__root , value)\r\n",
        "\r\n",
        "    def __insert__( self, nodo, value ):\r\n",
        "        if nodo.data == value:\r\n",
        "            print(\"El dato ya existe dentro del árbol\")\r\n",
        "\r\n",
        "        elif value < nodo.data:\r\n",
        "            #Regla 1:\r\n",
        "            if nodo.left == None:\r\n",
        "                nodo.left = NodoArbol( value )\r\n",
        "\r\n",
        "            #Regla 2:\r\n",
        "            else:\r\n",
        "                self.__insert__( nodo.left , value)\r\n",
        "\r\n",
        "        else:\r\n",
        "            if nodo.right == None:\r\n",
        "                nodo.right = NodoArbol( value )\r\n",
        "\r\n",
        "            else:\r\n",
        "                self.__insert__( nodo.right, value)\r\n",
        "\r\n",
        "    def __recorrido_in__( self, nodo):\r\n",
        "        if nodo != None:\r\n",
        "            self.__recorrido_in__( nodo.left )\r\n",
        "            print(nodo.data, end = \" , \")\r\n",
        "            self.__recorrido_in__( nodo.right )\r\n",
        "\r\n",
        "    def transversal(self, format = 'in orden'):\r\n",
        "        if format == 'in orden':\r\n",
        "            self.__recorrido_in__(self.__root)\r\n",
        "\r\n",
        "        elif format == 'pre orden':\r\n",
        "            print(\"Recorrido en pre\")\r\n",
        "\r\n",
        "        elif format == 'pos orden':\r\n",
        "            print(\"Recorrido en post\")\r\n",
        "\r\n",
        "        else:\r\n",
        "            print(\"Ingrese un recorrido valido\")\r\n",
        "\r\n",
        "        print(\"\")\r\n",
        "\r\n",
        "abb = BinarySearchTree()\r\n",
        "abb.insert(50)\r\n",
        "abb.insert(30)\r\n",
        "abb.insert(60)\r\n",
        "abb.insert(35)\r\n",
        "abb.insert(89)\r\n",
        "abb.transversal()\r\n"
      ],
      "execution_count": 1,
      "outputs": [
        {
          "output_type": "stream",
          "text": [
            "30 , 35 , 50 , 60 , 89 , \n"
          ],
          "name": "stdout"
        }
      ]
    }
  ]
}