{
  "nbformat": 4,
  "nbformat_minor": 0,
  "metadata": {
    "colab": {
      "name": "7deEnero2021.ipynb",
      "provenance": [],
      "authorship_tag": "ABX9TyMFkg5CTxMc2KNTY3zCHiTB",
      "include_colab_link": true
    },
    "kernelspec": {
      "name": "python3",
      "display_name": "Python 3"
    }
  },
  "cells": [
    {
      "cell_type": "markdown",
      "metadata": {
        "id": "view-in-github",
        "colab_type": "text"
      },
      "source": [
        "<a href=\"https://colab.research.google.com/github/NicolasGonzalez-T/edd_1310_2021/blob/master/7deEnero2021.ipynb\" target=\"_parent\"><img src=\"https://colab.research.google.com/assets/colab-badge.svg\" alt=\"Open In Colab\"/></a>"
      ]
    },
    {
      "cell_type": "code",
      "metadata": {
        "colab": {
          "base_uri": "https://localhost:8080/"
        },
        "id": "3Nm7mPNlIl7R",
        "outputId": "afb6eff3-7506-48d4-876d-339dbe4d9f3b"
      },
      "source": [
        "class Queue:\r\n",
        "    def __init__( self ):\r\n",
        "        self.__data = list()\r\n",
        "\r\n",
        "    def is_empty( self ):\r\n",
        "        return ( len(self.__data) == 0 )\r\n",
        "\r\n",
        "    def lenght( self ):\r\n",
        "        return len(self.__data)\r\n",
        "\r\n",
        "    def enqueue( self, elem ):\r\n",
        "        self.__data.append(elem)\r\n",
        "\r\n",
        "    def dequeue( self ):\r\n",
        "        if self.is_empty():\r\n",
        "            print(\"La cola está vacía\")\r\n",
        "        else:\r\n",
        "            return self.__data.pop(0)\r\n",
        "\r\n",
        "    def to_string( self ):\r\n",
        "        cadena = \"\"\r\n",
        "        for elem in self.__data:\r\n",
        "            cadena = cadena + \" | \" + str(elem)\r\n",
        "        cadena = cadena + \" |\"\r\n",
        "        print(cadena)\r\n",
        "\r\n",
        "class BoundedPriorityQueue:\r\n",
        "    def __init__( self, niveles ):\r\n",
        "        self.__data = [ Queue() for x in range(niveles) ]\r\n",
        "        self.__size = 0\r\n",
        "\r\n",
        "    def is_empty( self ):\r\n",
        "        return self.__size == 0\r\n",
        "\r\n",
        "    def lenght( self ):\r\n",
        "        return self.__size\r\n",
        "\r\n",
        "    def enqueue(self, prioridad, elem):\r\n",
        "        if prioridad < len(self.__data) and prioridad >=0:\r\n",
        "            self.__data[ prioridad ].enqueue( elem )\r\n",
        "            self.__size += 1\r\n",
        "\r\n",
        "    def dequeue( self ):\r\n",
        "        if not self.is_empty():\r\n",
        "            for nivel in self.__data:\r\n",
        "                if not nivel.is_empty():\r\n",
        "                    return nivel.dequeue()\r\n",
        "                    self.__size -= 1\r\n",
        "\r\n",
        "    def to_string( self ):\r\n",
        "        print(\"Cola:\")\r\n",
        "        for nivel in range(len(self.__data)):\r\n",
        "            print(f\" Nivel {nivel} --> { self.__data[nivel].to_string() } \")\r\n",
        "\r\n",
        "maestres = {\"Prioridad\" : 4,\r\n",
        "            \"Descripcion\" : \"Maestre\",\r\n",
        "            \"Personas\" : (\"Juan P.\", \"Diego H.\")}\r\n",
        "\r\n",
        "niños = {\"Prioridad\" : 2,\r\n",
        "        \"Descripcion\" : \"Niños\",\r\n",
        "        \"Personas\" : (\"Santi H.\", \"Angel H.\")}\r\n",
        "\r\n",
        "mecanicos = {\"Prioridad\" : 4,\r\n",
        "            \"Descripcion\" : \"Mecanicos\",\r\n",
        "            \"Personas\" : (\"Diana T.\", \"Maria Z.\")}\r\n",
        "\r\n",
        "cpa = BoundedPriorityQueue( 7 )\r\n",
        "cpa.enqueue( maestres[\"Prioridad\"], maestres )\r\n",
        "cpa.enqueue( niños[\"Prioridad\"], niños )\r\n",
        "cpa.enqueue( mecanicos[\"Prioridad\"], mecanicos )\r\n",
        "\r\n",
        "cpa.to_string()"
      ],
      "execution_count": 3,
      "outputs": [
        {
          "output_type": "stream",
          "text": [
            "Cola:\n",
            " |\n",
            " Nivel 0 --> None \n",
            " |\n",
            " Nivel 1 --> None \n",
            " | {'Prioridad': 2, 'Descripcion': 'Niños', 'Personas': ('Santi H.', 'Angel H.')} |\n",
            " Nivel 2 --> None \n",
            " |\n",
            " Nivel 3 --> None \n",
            " | {'Prioridad': 4, 'Descripcion': 'Maestre', 'Personas': ('Juan P.', 'Diego H.')} | {'Prioridad': 4, 'Descripcion': 'Mecanicos', 'Personas': ('Diana T.', 'Maria Z.')} |\n",
            " Nivel 4 --> None \n",
            " |\n",
            " Nivel 5 --> None \n",
            " |\n",
            " Nivel 6 --> None \n"
          ],
          "name": "stdout"
        }
      ]
    }
  ]
}