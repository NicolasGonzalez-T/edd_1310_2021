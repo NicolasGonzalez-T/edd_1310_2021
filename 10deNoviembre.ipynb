{
  "nbformat": 4,
  "nbformat_minor": 0,
  "metadata": {
    "colab": {
      "name": "10deNoviembre.ipynb",
      "provenance": [],
      "authorship_tag": "ABX9TyPaGatUUjFjONcn/hfCi+yT",
      "include_colab_link": true
    },
    "kernelspec": {
      "name": "python3",
      "display_name": "Python 3"
    }
  },
  "cells": [
    {
      "cell_type": "markdown",
      "metadata": {
        "id": "view-in-github",
        "colab_type": "text"
      },
      "source": [
        "<a href=\"https://colab.research.google.com/github/NicolasGonzalez-T/edd_1310_2021/blob/master/10deNoviembre.ipynb\" target=\"_parent\"><img src=\"https://colab.research.google.com/assets/colab-badge.svg\" alt=\"Open In Colab\"/></a>"
      ]
    },
    {
      "cell_type": "markdown",
      "metadata": {
        "id": "pyOess5RNlA0"
      },
      "source": [
        "#Estructuras ligadas"
      ]
    },
    {
      "cell_type": "markdown",
      "metadata": {
        "id": "1R6RZ70dNps2"
      },
      "source": [
        "## Nodos"
      ]
    },
    {
      "cell_type": "code",
      "metadata": {
        "id": "GXKxJywDNOxd",
        "outputId": "957c82c8-fbd4-4b0e-e2c5-0055fccb7cc6",
        "colab": {
          "base_uri": "https://localhost:8080/"
        }
      },
      "source": [
        "class Nodo:\n",
        "    def __init__( self , dato ):\n",
        "        self.__dato = dato\n",
        "        self.__siguiente = None\n",
        "\n",
        "    def get_dato( self ):\n",
        "        return self.__dato\n",
        "\n",
        "    def set_dato( self , d ):\n",
        "        self.__dato = d\n",
        "\n",
        "    def get_siguiente( self ):\n",
        "        return self.__siguiente\n",
        "\n",
        "    def set_siguiente( self , d ):\n",
        "        self.__siguiente = d\n",
        "    \n",
        "    def show( self ):\n",
        "      curr_nod = self #head\n",
        "      print(\"Inicio de la estructura ligada\")\n",
        "      print(\"|\" + str(curr_nod.get_dato()) + \"|-->\", end=\"\")\n",
        "      while( curr_nod.get_siguiente() != None ):\n",
        "        curr_nod = curr_nod.get_siguiente()\n",
        "        print(\"|\" + str(curr_nod.get_dato()) + \"|-->\", end=\"\")\n",
        "      print(\"\\nFin\")\n",
        "\n",
        "#Ejemplo 1\n",
        "a = Nodo(10)\n",
        "a.show()\n",
        "\n",
        "#Ejemplo 2\n",
        "a.set_siguiente( Nodo(20) )\n",
        "a.show()\n",
        "\n",
        "#Ejemplo 3\n",
        "a.get_siguiente().set_siguiente( Nodo(30) )\n",
        "a.show()\n",
        "\n",
        "#Ejemplo 4\n",
        "a.get_siguiente().get_siguiente().set_siguiente( Nodo(40) )\n",
        "a.show()\n",
        "\n",
        "#Ejemplo 5\n",
        "a.get_siguiente().get_siguiente().get_siguiente().set_siguiente( Nodo(50) )\n",
        "a.show()\n",
        "\n",
        "#Cambiando valores\n",
        "\n",
        "#Ejemplo 6\n",
        "a.set_dato(12)\n",
        "a.show()\n",
        "\n",
        "#Ejemplo 7\n",
        "a.get_siguiente().get_siguiente().get_siguiente().set_dato(46)\n",
        "a.show()\n",
        "\n",
        "#Ejemplo 8\n",
        "a.get_siguiente().set_dato(25)\n",
        "a.show()\n",
        "\n",
        "#Ejemplo 9\n",
        "a.get_siguiente().get_siguiente().get_siguiente().set_siguiente(None)\n",
        "a.show()\n",
        "\n",
        "#Remueve el 30\n",
        "a.get_siguiente().set_siguiente( a.get_siguiente().get_siguiente().get_siguiente() )\n",
        "a.show()"
      ],
      "execution_count": null,
      "outputs": [
        {
          "output_type": "stream",
          "text": [
            "Inicio de la estructura ligada\n",
            "|10|-->\n",
            "Fin\n",
            "Inicio de la estructura ligada\n",
            "|10|-->|20|-->\n",
            "Fin\n",
            "Inicio de la estructura ligada\n",
            "|10|-->|20|-->|30|-->\n",
            "Fin\n",
            "Inicio de la estructura ligada\n",
            "|10|-->|20|-->|30|-->|40|-->\n",
            "Fin\n",
            "Inicio de la estructura ligada\n",
            "|10|-->|20|-->|30|-->|40|-->|50|-->\n",
            "Fin\n",
            "Inicio de la estructura ligada\n",
            "|12|-->|20|-->|30|-->|40|-->|50|-->\n",
            "Fin\n",
            "Inicio de la estructura ligada\n",
            "|12|-->|20|-->|30|-->|46|-->|50|-->\n",
            "Fin\n",
            "Inicio de la estructura ligada\n",
            "|12|-->|25|-->|30|-->|46|-->|50|-->\n",
            "Fin\n",
            "Inicio de la estructura ligada\n",
            "|12|-->|25|-->|30|-->|46|-->\n",
            "Fin\n",
            "Inicio de la estructura ligada\n",
            "|12|-->|25|-->|46|-->\n",
            "Fin\n"
          ],
          "name": "stdout"
        }
      ]
    }
  ]
}