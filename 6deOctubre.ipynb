{
  "nbformat": 4,
  "nbformat_minor": 0,
  "metadata": {
    "colab": {
      "name": "6deOctubre.ipynb",
      "provenance": [],
      "authorship_tag": "ABX9TyM+EEdgiZbzrEvAEBCPdCF1",
      "include_colab_link": true
    },
    "kernelspec": {
      "name": "python3",
      "display_name": "Python 3"
    }
  },
  "cells": [
    {
      "cell_type": "markdown",
      "metadata": {
        "id": "view-in-github",
        "colab_type": "text"
      },
      "source": [
        "<a href=\"https://colab.research.google.com/github/NicolasGonzalez-T/edd_1310_2021/blob/master/6deOctubre.ipynb\" target=\"_parent\"><img src=\"https://colab.research.google.com/assets/colab-badge.svg\" alt=\"Open In Colab\"/></a>"
      ]
    },
    {
      "cell_type": "markdown",
      "metadata": {
        "id": "AUB0t6qpqkgP"
      },
      "source": [
        "# String parte 2"
      ]
    },
    {
      "cell_type": "code",
      "metadata": {
        "id": "jodq6n6Jqfkc",
        "outputId": "21efd9b2-780d-41b6-e3b3-4db1dadc20eb",
        "colab": {
          "base_uri": "https://localhost:8080/",
          "height": 68
        }
      },
      "source": [
        "numeros_txt = \"    1, 2, 3, 4    ,       5,     35,       15    ,     12\"\n",
        "print(numeros_txt)\n",
        "numeros_txt = numeros_txt.lstrip().split(',')\n",
        "print(numeros_txt)\n",
        "\n",
        "for j in range(len(numeros_txt)):\n",
        "  numeros_txt[j] = int( numeros_txt[j].strip())\n",
        "\n",
        "print(numeros_txt)"
      ],
      "execution_count": 5,
      "outputs": [
        {
          "output_type": "stream",
          "text": [
            "    1, 2, 3, 4    ,       5,     35,       15    ,     12\n",
            "['1', ' 2', ' 3', ' 4    ', '       5', '     35', '       15    ', '     12']\n",
            "[1, 2, 3, 4, 5, 35, 15, 12]\n"
          ],
          "name": "stdout"
        }
      ]
    },
    {
      "cell_type": "markdown",
      "metadata": {
        "id": "-QwMs9mVv2g6"
      },
      "source": [
        "# Range\n",
        "range(`start`, `stop`, `incremento`)"
      ]
    },
    {
      "cell_type": "code",
      "metadata": {
        "id": "XvAPnGxev3pI",
        "outputId": "ad725558-0179-4c01-fe50-933d6b5bda5b",
        "colab": {
          "base_uri": "https://localhost:8080/",
          "height": 289
        }
      },
      "source": [
        "print(range(1, 10, 3))\n",
        "\n",
        "rango = range(1, 10, 2)\n",
        "for x in rango:\n",
        "  print(x)\n",
        "\n",
        "rango = range(10)\n",
        "for x in rango:\n",
        "  print(x)\n",
        "\n"
      ],
      "execution_count": 10,
      "outputs": [
        {
          "output_type": "stream",
          "text": [
            "range(1, 10, 3)\n",
            "1\n",
            "3\n",
            "5\n",
            "7\n",
            "9\n",
            "0\n",
            "1\n",
            "2\n",
            "3\n",
            "4\n",
            "5\n",
            "6\n",
            "7\n",
            "8\n",
            "9\n"
          ],
          "name": "stdout"
        }
      ]
    },
    {
      "cell_type": "markdown",
      "metadata": {
        "id": "eNTKGwHExE1b"
      },
      "source": [
        "# Listas\n",
        "\n",
        "- Mutables\n",
        "- Se declaran con [ ]\n",
        "- Selector [ int ]\n",
        "- Pueden ser de cualquier tipo y mezclado"
      ]
    },
    {
      "cell_type": "markdown",
      "metadata": {
        "id": "mI-r1fvJyJQ3"
      },
      "source": [
        "# Tuplas\n",
        "- No mutable\n",
        "- Se declara con ( )\n",
        "- Selector [ int ]"
      ]
    },
    {
      "cell_type": "markdown",
      "metadata": {
        "id": "X1WxxDw_yKFZ"
      },
      "source": [
        "\n",
        "# Diccionarios\n",
        "- Son mutables\n",
        "- Conjunto de pares llaves : valor\n",
        "- Equivalentes a los objetos JSON de JavaScript"
      ]
    },
    {
      "cell_type": "markdown",
      "metadata": {
        "id": "m7lhfNCdyPCa"
      },
      "source": [
        "# Conjuntos\n",
        "- Representación de la teoría de conjuntos"
      ]
    },
    {
      "cell_type": "code",
      "metadata": {
        "id": "1QEP77H8yQrk",
        "outputId": "2e308f12-b741-44c0-8e23-e076f624f544",
        "colab": {
          "base_uri": "https://localhost:8080/",
          "height": 136
        }
      },
      "source": [
        "#Listas\n",
        "frutas = ['Pera', 'Manzana', 'fresa', 'Kiwi', 'Naranja']\n",
        "print(frutas)\n",
        "\n",
        "cosas = ['Cuaderno', 2, 3.1416, True, False, ['Rojo', 'Azul', 'Verde']]\n",
        "print(cosas)\n",
        "\n",
        "frutas[2] = 'Fresa'     # frutas[2] = frutas[2].capitalize()\n",
        "print(frutas)\n",
        "\n",
        "#Agregar a una lista\n",
        "frutas.append('Aguacate')\n",
        "print(frutas)\n",
        "\n",
        "#Insertar elemento\n",
        "frutas.insert(2, 'Sandía')\n",
        "print(frutas)\n",
        "\n",
        "#Concatenar strings con los elementos de la lista\n",
        "fecha = ['06', '10', '2020']  # 06/10/2020\n",
        "print(fecha)\n",
        "fecha_string = \"/\".join(fecha)\n",
        "print(fecha_string)"
      ],
      "execution_count": 11,
      "outputs": [
        {
          "output_type": "stream",
          "text": [
            "['Pera', 'Manzana', 'fresa', 'Kiwi', 'Naranja']\n",
            "['Cuaderno', 2, 3.1416, True, False, ['Rojo', 'Azul', 'Verde']]\n",
            "['Pera', 'Manzana', 'Fresa', 'Kiwi', 'Naranja']\n",
            "['Pera', 'Manzana', 'Fresa', 'Kiwi', 'Naranja', 'Aguacate']\n",
            "['Pera', 'Manzana', 'Sandía', 'Fresa', 'Kiwi', 'Naranja', 'Aguacate']\n",
            "['06', '10', '2020']\n",
            "06/10/2020\n"
          ],
          "name": "stdout"
        }
      ]
    },
    {
      "cell_type": "code",
      "metadata": {
        "id": "ju6lYQmy3SCP",
        "outputId": "7d26c13c-8028-4fbe-bb99-66a3dfe5af42",
        "colab": {
          "base_uri": "https://localhost:8080/",
          "height": 187
        }
      },
      "source": [
        "#Eliminar elementos con pop()\n",
        "cosas = ['Cuaderno', 2, 3.1416, True, False, ['Rojo', 'Azul', 'Verde']]\n",
        "\n",
        "print(cosas)\n",
        "cosas.append('Libro')\n",
        "cosas.append('Lápiz')\n",
        "print(cosas)\n",
        "\n",
        "algo = cosas.pop()\n",
        "print(cosas)\n",
        "print(algo)\n",
        "\n",
        "algo = cosas.pop(2)\n",
        "print(cosas)\n",
        "print(algo)\n",
        "\n",
        "#Eliminar cosas con remove\n",
        "cosas.remove(2)\n",
        "print(cosas)\n",
        "\n",
        "#Vaciar una lista\n",
        "cosas.clear()\n",
        "print(cosas)\n",
        "\n",
        "#Ordenar listas   #Para que funcione, los datos en la lista deben tener congruencia entre ellos\n",
        "print(frutas)\n",
        "frutas.sort()   #Ordena con respecto al diccionario\n",
        "print(frutas)\n"
      ],
      "execution_count": 28,
      "outputs": [
        {
          "output_type": "stream",
          "text": [
            "['Cuaderno', 2, 3.1416, True, False, ['Rojo', 'Azul', 'Verde']]\n",
            "['Cuaderno', 2, 3.1416, True, False, ['Rojo', 'Azul', 'Verde'], 'Libro', 'Lápiz']\n",
            "['Cuaderno', 2, 3.1416, True, False, ['Rojo', 'Azul', 'Verde'], 'Libro']\n",
            "Lápiz\n",
            "['Cuaderno', 2, True, False, ['Rojo', 'Azul', 'Verde'], 'Libro']\n",
            "3.1416\n",
            "['Cuaderno', True, False, ['Rojo', 'Azul', 'Verde'], 'Libro']\n",
            "[]\n",
            "['Aguacate', 'Fresa', 'Kiwi', 'Manzana', 'Naranja', 'Pera', 'Sandía']\n",
            "['Aguacate', 'Fresa', 'Kiwi', 'Manzana', 'Naranja', 'Pera', 'Sandía']\n"
          ],
          "name": "stdout"
        }
      ]
    },
    {
      "cell_type": "code",
      "metadata": {
        "id": "ngY2XBjL7C7w",
        "outputId": "305b9b10-93ff-4a86-d5fe-4af02fb2493b",
        "colab": {
          "base_uri": "https://localhost:8080/",
          "height": 136
        }
      },
      "source": [
        "#Slicing\n",
        "\n",
        "cosas = ['Cuaderno', 2, 3.1416, True, False, ['Rojo', 'Azul', 'Verde']]\n",
        "print(cosas[3:5])\n",
        "print(cosas)\n",
        "print(cosas[0][3:5])\n",
        "\n",
        "numeros = [0, 1, 2, 3, 4, 5, 6, 7, 8, 9, 10, 11, 12, 13, 14, 15]\n",
        "print(numeros[8:13])\n",
        "\n",
        "#Sustituir rebanadas\n",
        "#sustituir por [-2, -2] --------> [0, 1, 2, 3, 4, 5, 6, 7, -2, -2, 13, 14, 15]\n",
        "numeros[8:13] = [-2, -2]\n",
        "print(numeros)\n",
        "\n",
        "#Preguntar por existencia\n",
        "print(-2 in numeros)\n",
        "print(100 in numeros)"
      ],
      "execution_count": 42,
      "outputs": [
        {
          "output_type": "stream",
          "text": [
            "[True, False]\n",
            "['Cuaderno', 2, 3.1416, True, False, ['Rojo', 'Azul', 'Verde']]\n",
            "de\n",
            "[8, 9, 10, 11, 12]\n",
            "[0, 1, 2, 3, 4, 5, 6, 7, -2, -2, 13, 14, 15]\n",
            "True\n",
            "False\n"
          ],
          "name": "stdout"
        }
      ]
    },
    {
      "cell_type": "markdown",
      "metadata": {
        "id": "XVSGh7LF-jgu"
      },
      "source": [
        "## Listas de multiple dimension\n",
        "\n",
        "Listas dentro de listas"
      ]
    },
    {
      "cell_type": "code",
      "metadata": {
        "id": "Snw06D36-qbP",
        "outputId": "25577ccd-cca2-47d3-8944-13077b1eb08e",
        "colab": {
          "base_uri": "https://localhost:8080/",
          "height": 153
        }
      },
      "source": [
        "computadoras = ['HP', \"Mac Book pro 17''\", 'Mate Book', 'Lenovo Legion']\n",
        "oss = ['Windows', 'Linux', 'Android', 'iOS']\n",
        "\n",
        "computo = [computadoras, oss]\n",
        "\n",
        "print(computo[0])\n",
        "print(computo[1])\n",
        "print(computo[0][2])\n",
        "print(computo[0][2][0:5])\n",
        "print(computo[0][3][5::-1])\n",
        "\n",
        "dbms = [ [\"MySQL\" , \"Open Source\", False] , [\"MS SQL Server\", \"De paga\", True] ] #Sistema gestor de base de datos\n",
        "\n",
        "computo.append(dbms)\n",
        "print(computo)\n",
        "print(computo[2][0][0])\n",
        "print(computo[2][1][1])"
      ],
      "execution_count": 68,
      "outputs": [
        {
          "output_type": "stream",
          "text": [
            "['HP', \"Mac Book pro 17''\", 'Mate Book', 'Lenovo Legion']\n",
            "['Windows', 'Linux', 'Android', 'iOS']\n",
            "Mate Book\n",
            "Mate \n",
            "ovoneL\n",
            "[['HP', \"Mac Book pro 17''\", 'Mate Book', 'Lenovo Legion'], ['Windows', 'Linux', 'Android', 'iOS'], [['MySQL', 'Open Source', False], ['MS SQL Server', 'De paga', True]]]\n",
            "MySQL\n",
            "De paga\n"
          ],
          "name": "stdout"
        }
      ]
    }
  ]
}