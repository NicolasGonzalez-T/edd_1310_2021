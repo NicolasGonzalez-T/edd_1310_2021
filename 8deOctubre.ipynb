{
  "nbformat": 4,
  "nbformat_minor": 0,
  "metadata": {
    "colab": {
      "name": "8deOctubre.ipynb",
      "provenance": [],
      "authorship_tag": "ABX9TyNwR6hKvZpJoXrRc3Baoq/k",
      "include_colab_link": true
    },
    "kernelspec": {
      "name": "python3",
      "display_name": "Python 3"
    }
  },
  "cells": [
    {
      "cell_type": "markdown",
      "metadata": {
        "id": "view-in-github",
        "colab_type": "text"
      },
      "source": [
        "<a href=\"https://colab.research.google.com/github/NicolasGonzalez-T/edd_1310_2021/blob/master/8deOctubre.ipynb\" target=\"_parent\"><img src=\"https://colab.research.google.com/assets/colab-badge.svg\" alt=\"Open In Colab\"/></a>"
      ]
    },
    {
      "cell_type": "markdown",
      "metadata": {
        "id": "K_XX237KR34x"
      },
      "source": [
        "#Listas"
      ]
    },
    {
      "cell_type": "code",
      "metadata": {
        "id": "fzWWm2IN-Lu1",
        "outputId": "db68da74-5d83-471e-9e3b-efbe91a7d2c5",
        "colab": {
          "base_uri": "https://localhost:8080/",
          "height": 119
        }
      },
      "source": [
        "#Listas multidimensionales\n",
        "monitores =[[\"Samsung\",\"17.3 \\\"\",1024],[\"BenQ\",\"40\\\"\",2048]]\n",
        "procesadores = [[\"Intel\",\"i7\",3.4],[\"AMD\",\"razzer\",3.3],[\"Intel\",\"i3\",3.1]]\n",
        "memorias = [[\"Kingston\", \"8GB\",\"DDR4\"],[\"Kingston\", \"16GB\",\"DDR3\"],[\"ADATA\", \"32GB\",\"DDR4\"]]\n",
        "\n",
        "componentes = [monitores,procesadores,memorias]\n",
        "print(componentes)\n",
        "\n",
        "#Procesadores\n",
        "print(componentes[1])\n",
        "\n",
        "#16GB\n",
        "print(componentes[2][1][1])\n",
        "\n",
        "#2048 * 2\n",
        "print(componentes[0][1][2] * 2)\n",
        "\n",
        "#azz\n",
        "print(componentes[1][1][1][1:4])\n",
        "\n",
        "#adata\n",
        "print(componentes[2][2][0].lower())"
      ],
      "execution_count": 12,
      "outputs": [
        {
          "output_type": "stream",
          "text": [
            "[[['Samsung', '17.3 \"', 1024], ['BenQ', '40\"', 2048]], [['Intel', 'i7', 3.4], ['AMD', 'razzer', 3.3], ['Intel', 'i3', 3.1]], [['Kingston', '8GB', 'DDR4'], ['Kingston', '16GB', 'DDR3'], ['ADATA', '32GB', 'DDR4']]]\n",
            "[['Intel', 'i7', 3.4], ['AMD', 'razzer', 3.3], ['Intel', 'i3', 3.1]]\n",
            "16GB\n",
            "4096\n",
            "azz\n",
            "adata\n"
          ],
          "name": "stdout"
        }
      ]
    },
    {
      "cell_type": "code",
      "metadata": {
        "id": "gY4bpPoPH4EO",
        "outputId": "d4100d29-09fd-4eb4-e4f8-2da142d8aa26",
        "colab": {
          "base_uri": "https://localhost:8080/",
          "height": 68
        }
      },
      "source": [
        "#Extender listas\n",
        "#Con append() No recomendado\n",
        "frutas = ['manzana', 'pera']\n",
        "otras_frutas = ['aguacate', 'sandía']\n",
        "\n",
        "frutas.append(otras_frutas)\n",
        "print(frutas)\n",
        "\n",
        "#Con +\n",
        "frutas = ['manzana', 'pera']\n",
        "otras_frutas = ['aguacate', 'sandía']\n",
        "frutas = frutas + otras_frutas\n",
        "print(frutas)\n",
        "\n",
        "#Funcion extend\n",
        "frutas = ['manzana', 'pera']\n",
        "otras_frutas = ['aguacate', 'sandía']\n",
        "frutas.extend(otras_frutas)\n",
        "print(frutas)\n",
        "\n"
      ],
      "execution_count": 23,
      "outputs": [
        {
          "output_type": "stream",
          "text": [
            "['manzana', 'pera', ['aguacate', 'sandía']]\n",
            "['manzana', 'pera', 'aguacate', 'sandía']\n",
            "['manzana', 'pera', 'aguacate', 'sandía']\n"
          ],
          "name": "stdout"
        }
      ]
    },
    {
      "cell_type": "code",
      "metadata": {
        "id": "y38Q3JP3Nj6w",
        "outputId": "45858e61-1aa3-4350-d76b-c8fc413e84fb",
        "colab": {
          "base_uri": "https://localhost:8080/",
          "height": 136
        }
      },
      "source": [
        "#Copiar listas\n",
        "#Copiar la referencia de la lista\n",
        "colores = ['azul', 'rojo', 'verde', 'violeta']\n",
        "otros_colores = colores\n",
        "print(colores)\n",
        "print(otros_colores)\n",
        "otros_colores.append('rosa')\n",
        "print(colores)\n",
        "print(otros_colores)\n",
        "\n",
        "#Copiar el contenido de las listas\n",
        "una_mas = colores.copy()\n",
        "print(una_mas)\n",
        "una_mas.append('gris')\n",
        "print(una_mas)\n",
        "print(colores)"
      ],
      "execution_count": 24,
      "outputs": [
        {
          "output_type": "stream",
          "text": [
            "['azul', 'rojo', 'verde', 'violeta']\n",
            "['azul', 'rojo', 'verde', 'violeta']\n",
            "['azul', 'rojo', 'verde', 'violeta', 'rosa']\n",
            "['azul', 'rojo', 'verde', 'violeta', 'rosa']\n",
            "['azul', 'rojo', 'verde', 'violeta', 'rosa']\n",
            "['azul', 'rojo', 'verde', 'violeta', 'rosa', 'gris']\n",
            "['azul', 'rojo', 'verde', 'violeta', 'rosa']\n"
          ],
          "name": "stdout"
        }
      ]
    },
    {
      "cell_type": "code",
      "metadata": {
        "id": "gVsnFOK6O0BI",
        "outputId": "df759930-7313-42fd-9908-191a341aeefa",
        "colab": {
          "base_uri": "https://localhost:8080/",
          "height": 68
        }
      },
      "source": [
        "#Unpacking de listas\n",
        "\n",
        "alumno = ['Nicolas', 'González', 'Terron', 22, 'ICO', 10.0]\n",
        "'''\n",
        "nombre = alumno[0]\n",
        "paterno = alumno[1]\n",
        "\n",
        "etc\n",
        "'''\n",
        "\n",
        "nombre, paterno, materno, edad, carrera, promedio = alumno\n",
        "print(f\"Alumno: {nombre} {paterno} {materno} \\nCarrera: {carrera} \\nPromedio: {promedio}\")\n",
        "\n"
      ],
      "execution_count": 38,
      "outputs": [
        {
          "output_type": "stream",
          "text": [
            "Alumno: Nicolas González Terron \n",
            "Carrera: ICO \n",
            "Promedio: 10.0\n"
          ],
          "name": "stdout"
        }
      ]
    },
    {
      "cell_type": "markdown",
      "metadata": {
        "id": "nx9rq1FKR179"
      },
      "source": [
        "#Tuplas\n",
        "- Se declaran con ( )\n",
        "- El selector es igual que en las listas [ i ]\n",
        "- No son mutables (no se pueden modificar los valores de la tupla\n",
        "- Se le aplica el slicing de la misma manera que las listas"
      ]
    },
    {
      "cell_type": "code",
      "metadata": {
        "id": "0_y2cXPDSOjI",
        "outputId": "1a9774bf-c323-4a67-ea6a-74dedbc8a668",
        "colab": {
          "base_uri": "https://localhost:8080/",
          "height": 68
        }
      },
      "source": [
        "precios = (99.90, 49.90, 12.45, 23.3, 33.44, 55.66)\n",
        "print(precios[1])\n",
        "print(precios)\n",
        "print(precios[2:4])"
      ],
      "execution_count": 44,
      "outputs": [
        {
          "output_type": "stream",
          "text": [
            "49.9\n",
            "(99.9, 49.9, 12.45, 23.3, 33.44, 55.66)\n",
            "(12.45, 23.3)\n"
          ],
          "name": "stdout"
        }
      ]
    },
    {
      "cell_type": "markdown",
      "metadata": {
        "id": "3yq9PzJBTjPL"
      },
      "source": [
        "#Diccionarios\n",
        "- Se declara con { }\n",
        "- Si son mutables\n",
        "- Conjunto de pares llave:valor\n",
        "- Equivalente a los objetos JSON de JavaScript\n",
        "- Su selector se indica con [ 'Llave' ]"
      ]
    },
    {
      "cell_type": "code",
      "metadata": {
        "id": "nz_Ns4c_TxKu",
        "outputId": "19cf775e-04bd-4c09-db8a-5707ce27a706",
        "colab": {
          "base_uri": "https://localhost:8080/",
          "height": 156
        }
      },
      "source": [
        "cliente = { }\n",
        "print(cliente)\n",
        "alumno = {\"NumCta\":317126473}\n",
        "print(alumno)\n",
        "\n",
        "alumno = {'NumCta':317126473, 'Carrera': 'ICO'}\n",
        "print(alumno)\n",
        "\n",
        "#Para una correcta lectura del dicionario\n",
        "alumno = {\n",
        "    'NumCta':317126473, \n",
        "    'Carrera': 'ICO',\n",
        "    'Promedio': 9.8,\n",
        "    'Materias': ['EDD', 'Emprendimiento', 'Calidad'],\n",
        "    'Direccion':{\n",
        "        'Calle': 'Rancho seco',\n",
        "        'Numero': 23,\n",
        "        'Delegación': 'Nezayork',\n",
        "        'Estado': {\n",
        "            'ID': 15,\n",
        "            'Nombre': 'Estado de México',\n",
        "            'Nombre corto': 'EDOMEX',\n",
        "            'Codigo Postal': 57170\n",
        "        }\n",
        "    }\n",
        "}\n",
        "print(alumno)\n",
        "print(alumno['Materias'])\n",
        "print(alumno['Promedio'])\n",
        "print(alumno['Direccion']['Estado']['Nombre corto'])"
      ],
      "execution_count": 56,
      "outputs": [
        {
          "output_type": "stream",
          "text": [
            "{}\n",
            "{'NumCta': 317126473}\n",
            "{'NumCta': 317126473, 'Carrera': 'ICO'}\n",
            "{'NumCta': 317126473, 'Carrera': 'ICO', 'Promedio': 9.8, 'Materias': ['EDD', 'Emprendimiento', 'Calidad'], 'Direccion': {'Calle': 'Rancho seco', 'Numero': 23, 'Delegación': 'Nezayork', 'Estado': {'ID': 15, 'Nombre': 'Estado de México', 'Nombre corto': 'EDOMEX', 'Codigo Postal': 57170}}}\n",
            "['EDD', 'Emprendimiento', 'Calidad']\n",
            "9.8\n",
            "EDOMEX\n"
          ],
          "name": "stdout"
        }
      ]
    }
  ]
}