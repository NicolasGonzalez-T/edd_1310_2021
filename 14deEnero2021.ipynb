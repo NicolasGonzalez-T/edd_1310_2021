{
  "nbformat": 4,
  "nbformat_minor": 0,
  "metadata": {
    "colab": {
      "name": "14deEnero2021.ipynb",
      "provenance": [],
      "authorship_tag": "ABX9TyONaEajNRzRpVX+qruT5vwh",
      "include_colab_link": true
    },
    "kernelspec": {
      "name": "python3",
      "display_name": "Python 3"
    }
  },
  "cells": [
    {
      "cell_type": "markdown",
      "metadata": {
        "id": "view-in-github",
        "colab_type": "text"
      },
      "source": [
        "<a href=\"https://colab.research.google.com/github/NicolasGonzalez-T/edd_1310_2021/blob/master/14deEnero2021.ipynb\" target=\"_parent\"><img src=\"https://colab.research.google.com/assets/colab-badge.svg\" alt=\"Open In Colab\"/></a>"
      ]
    },
    {
      "cell_type": "code",
      "metadata": {
        "colab": {
          "base_uri": "https://localhost:8080/"
        },
        "id": "a6vTVMBPQn9D",
        "outputId": "fb5f8dcf-2ef2-42c2-8872-33abfd2a5742"
      },
      "source": [
        "class NodoArbol:\r\n",
        "    def __init__(self, value, left=None, right=None):\r\n",
        "        self.data = value\r\n",
        "        self.left = left\r\n",
        "        self.right = right\r\n",
        "\r\n",
        "arbol = NodoArbol( \"R\", NodoArbol(\"C\"), NodoArbol(\"H\") )\r\n",
        "print(\"Arbol 1:\")\r\n",
        "print(arbol.left.data)\r\n",
        "print(arbol.data)\r\n",
        "\r\n",
        "arbol2 = NodoArbol( 4 , NodoArbol(3, left = NodoArbol(2, left = NodoArbol(2)) ) , NodoArbol( 5 ) )\r\n",
        "print(\"\\nArbol 2:\")\r\n",
        "print(arbol2.data)\r\n",
        "print(arbol2.left.data)\r\n",
        "print(arbol2.right.data)\r\n",
        "print(arbol2.left.left.data)\r\n",
        "print(arbol2.left.left.left.data)\r\n"
      ],
      "execution_count": 2,
      "outputs": [
        {
          "output_type": "stream",
          "text": [
            "Arbol 1:\n",
            "C\n",
            "R\n",
            "\n",
            "Arbol 2:\n",
            "4\n",
            "3\n",
            "5\n",
            "2\n",
            "2\n"
          ],
          "name": "stdout"
        }
      ]
    }
  ]
}