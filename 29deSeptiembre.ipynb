{
  "nbformat": 4,
  "nbformat_minor": 0,
  "metadata": {
    "colab": {
      "name": "Untitled0.ipynb",
      "provenance": [],
      "toc_visible": true,
      "include_colab_link": true
    },
    "kernelspec": {
      "name": "python3",
      "display_name": "Python 3"
    }
  },
  "cells": [
    {
      "cell_type": "markdown",
      "metadata": {
        "id": "view-in-github",
        "colab_type": "text"
      },
      "source": [
        "<a href=\"https://colab.research.google.com/github/NicolasGonzalez-T/edd_1310_2021/blob/master/29deSeptiembre.ipynb\" target=\"_parent\"><img src=\"https://colab.research.google.com/assets/colab-badge.svg\" alt=\"Open In Colab\"/></a>"
      ]
    },
    {
      "cell_type": "code",
      "metadata": {
        "id": "2TPC405_ssBR"
      },
      "source": [
        "edad = 10\n",
        "colores = ['rojo', 'azul', 'verde', 'morado', 'violeta']\n",
        "nombre = 'Alberto'"
      ],
      "execution_count": 1,
      "outputs": []
    },
    {
      "cell_type": "code",
      "metadata": {
        "id": "V-nYDN17vKql",
        "outputId": "6ae58993-bc93-4d2b-c3c4-876c835302c8",
        "colab": {
          "base_uri": "https://localhost:8080/",
          "height": 85
        }
      },
      "source": [
        "print(edad)\n",
        "print(colores)\n",
        "print(colores[3])\n",
        "print(colores[3][2:4])"
      ],
      "execution_count": 3,
      "outputs": [
        {
          "output_type": "stream",
          "text": [
            "10\n",
            "['rojo', 'azul', 'verde', 'morado', 'violeta']\n",
            "morado\n",
            "ra\n"
          ],
          "name": "stdout"
        }
      ]
    },
    {
      "cell_type": "markdown",
      "metadata": {
        "id": "v2EJ6ak8yLdJ"
      },
      "source": [
        "# For en Python 3\n",
        "Tiene 2 variantes\n",
        "1. in range(`inicio`, `tope`, `incremento`)\n",
        "2. in `iterador`"
      ]
    },
    {
      "cell_type": "code",
      "metadata": {
        "id": "COw4Ml6QwSp3",
        "outputId": "63ed67ac-b62f-405a-ec1e-e06ad7c47f2e",
        "colab": {
          "base_uri": "https://localhost:8080/",
          "height": 102
        }
      },
      "source": [
        "for color in colores:\n",
        "  print(color)"
      ],
      "execution_count": null,
      "outputs": [
        {
          "output_type": "stream",
          "text": [
            "rojo\n",
            "azul\n",
            "verde\n",
            "morado\n",
            "violeta\n"
          ],
          "name": "stdout"
        }
      ]
    },
    {
      "cell_type": "code",
      "metadata": {
        "id": "I-oiNUJ00iaT",
        "outputId": "96ec2dab-26d0-4938-96d5-54a4ec3e6bb8",
        "colab": {
          "base_uri": "https://localhost:8080/",
          "height": 170
        }
      },
      "source": [
        "print(nombre[0])\n",
        "print(nombre[0:3])\n",
        "for letra in nombre:\n",
        "  print(letra)"
      ],
      "execution_count": 5,
      "outputs": [
        {
          "output_type": "stream",
          "text": [
            "A\n",
            "Alb\n",
            "A\n",
            "l\n",
            "b\n",
            "e\n",
            "r\n",
            "t\n",
            "o\n"
          ],
          "name": "stdout"
        }
      ]
    },
    {
      "cell_type": "markdown",
      "metadata": {
        "id": "40izkn3i1kYc"
      },
      "source": [
        "# ¿Que es Markdown?\n",
        "Es un lenguaje de marcado para documentar código.\n",
        "\n",
        "El objetivo es simplificar la escritura del lenguaje HTML\n",
        "\n",
        "Para más información, consultar:[Github Markdown](https://github.com/adam-p/markdown-here/wiki/Markdown-Cheatsheet)\n",
        "\n",
        "![Imagen](https://upload.wikimedia.org/wikipedia/commons/thumb/5/51/Aragon_Jonhy_corel.jpg/240px-Aragon_Jonhy_corel.jpg)"
      ]
    }
  ]
}