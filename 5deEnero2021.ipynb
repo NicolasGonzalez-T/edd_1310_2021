{
  "nbformat": 4,
  "nbformat_minor": 0,
  "metadata": {
    "colab": {
      "name": "5deEnero2021.ipynb",
      "provenance": [],
      "authorship_tag": "ABX9TyNh+QHqTPD2sUeoJy2mBdZe",
      "include_colab_link": true
    },
    "kernelspec": {
      "name": "python3",
      "display_name": "Python 3"
    }
  },
  "cells": [
    {
      "cell_type": "markdown",
      "metadata": {
        "id": "view-in-github",
        "colab_type": "text"
      },
      "source": [
        "<a href=\"https://colab.research.google.com/github/NicolasGonzalez-T/edd_1310_2021/blob/master/5deEnero2021.ipynb\" target=\"_parent\"><img src=\"https://colab.research.google.com/assets/colab-badge.svg\" alt=\"Open In Colab\"/></a>"
      ]
    },
    {
      "cell_type": "code",
      "metadata": {
        "colab": {
          "base_uri": "https://localhost:8080/"
        },
        "id": "7YDVh1P-jPMr",
        "outputId": "01fe0738-3466-4bf3-d952-760b39d8a322"
      },
      "source": [
        "class Queue:\r\n",
        "    def __init__( self ):\r\n",
        "        self.__data = list()\r\n",
        "\r\n",
        "    def is_empty( self ):\r\n",
        "        return ( len(self.__data) == 0 )\r\n",
        "\r\n",
        "    def lenght( self ):\r\n",
        "        return len(self.__data)\r\n",
        "\r\n",
        "    def enqueue( self, elem ):\r\n",
        "        self.__data.append(elem)\r\n",
        "\r\n",
        "    def dequeue( self ):\r\n",
        "        if self.is_empty():\r\n",
        "            print(\"La cola está vacía\")\r\n",
        "        else:\r\n",
        "            return self.__data.pop(0)\r\n",
        "\r\n",
        "    def to_string( self ):\r\n",
        "        cadena = \"\"\r\n",
        "        for elem in self.__data:\r\n",
        "            cadena = cadena + \" | \" + str(elem)\r\n",
        "        cadena = cadena + \" |\"\r\n",
        "        print(cadena)\r\n",
        "\r\n",
        "q1 = Queue()\r\n",
        "q1.enqueue(3)\r\n",
        "q1.enqueue(33)\r\n",
        "q1.enqueue(23)\r\n",
        "q1.to_string()\r\n",
        "\r\n",
        "print(\"\\nPrueba 2 de Queue\\n\")\r\n",
        "c1 = {\"id\":1,\r\n",
        "    \"nombre\":\"Mario\",\r\n",
        "    \"balance\":20.5}\r\n",
        "\r\n",
        "c2 = {\"id\":2,\r\n",
        "    \"nombre\":\"Diana\",\r\n",
        "    \"balance\":3456.5}\r\n",
        "\r\n",
        "c3 = {\"id\":3,\r\n",
        "    \"nombre\":\"Bartolo\",\r\n",
        "    \"balance\":1000000.0}\r\n",
        "atencion = Queue()\r\n",
        "atencion.enqueue(c1)\r\n",
        "atencion.enqueue(c2)\r\n",
        "atencion.enqueue(c3)\r\n",
        "\r\n",
        "atencion.to_string()\r\n",
        "print(\"\")\r\n",
        "siguiente = atencion.dequeue()\r\n",
        "print(f\"Bienvenido/a { siguiente['nombre']}, ¿en que podemos servirle hoy?\")\r\n",
        "print(\"\")\r\n",
        "atencion.to_string()\r\n"
      ],
      "execution_count": 5,
      "outputs": [
        {
          "output_type": "stream",
          "text": [
            " | 3 | 33 | 23 |\n",
            "\n",
            "Prueba 2 de Queue\n",
            "\n",
            " | {'id': 1, 'nombre': 'Mario', 'balance': 20.5} | {'id': 2, 'nombre': 'Diana', 'balance': 3456.5} | {'id': 3, 'nombre': 'Bartolo', 'balance': 1000000.0} |\n",
            "\n",
            "Bienvenido/a Mario, ¿en que podemos servirle hoy?\n",
            "\n",
            " | {'id': 2, 'nombre': 'Diana', 'balance': 3456.5} | {'id': 3, 'nombre': 'Bartolo', 'balance': 1000000.0} |\n"
          ],
          "name": "stdout"
        }
      ]
    }
  ]
}