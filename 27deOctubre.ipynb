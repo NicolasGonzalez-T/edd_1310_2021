{
  "nbformat": 4,
  "nbformat_minor": 0,
  "metadata": {
    "colab": {
      "name": "27deOctubre.ipynb",
      "provenance": [],
      "authorship_tag": "ABX9TyNt/yWZwm0viQcz+QBg7CS2",
      "include_colab_link": true
    },
    "kernelspec": {
      "name": "python3",
      "display_name": "Python 3"
    }
  },
  "cells": [
    {
      "cell_type": "markdown",
      "metadata": {
        "id": "view-in-github",
        "colab_type": "text"
      },
      "source": [
        "<a href=\"https://colab.research.google.com/github/NicolasGonzalez-T/edd_1310_2021/blob/master/27deOctubre.ipynb\" target=\"_parent\"><img src=\"https://colab.research.google.com/assets/colab-badge.svg\" alt=\"Open In Colab\"/></a>"
      ]
    },
    {
      "cell_type": "code",
      "metadata": {
        "id": "XDVeA2vvBnOl",
        "outputId": "79931866-081f-472d-c21a-22090b818bbf",
        "colab": {
          "base_uri": "https://localhost:8080/",
          "height": 51
        }
      },
      "source": [
        "class Computadora:\n",
        "    def __init__( self , m , p):\n",
        "        self.__marca = m              #Cuando un atributo / metodo tiene __ al inicio, se considera que está en privado\n",
        "        self.__procesador = p\n",
        "    \n",
        "    def to_string( self ):\n",
        "        return \"Marca:\"+self.__marca+\" Procesador:\"+self.__procesador\n",
        "\n",
        "mi_pc = Computadora(\"Toshiba\",\"Intel i7\")\n",
        "print(mi_pc.to_string())\n",
        "mi_pc.__marca=\"HP \"                   #No cambia, pues \"__marca\" es un atributo privado\n",
        "print(mi_pc.to_string())\n",
        "\n"
      ],
      "execution_count": 3,
      "outputs": [
        {
          "output_type": "stream",
          "text": [
            "Marca:Toshiba Procesador:Intel i7\n",
            "Marca:Toshiba Procesador:Intel i7\n"
          ],
          "name": "stdout"
        }
      ]
    },
    {
      "cell_type": "markdown",
      "metadata": {
        "id": "ShdaMkVIEMOD"
      },
      "source": [
        "# Encapsulamiento\n",
        "\n"
      ]
    },
    {
      "cell_type": "markdown",
      "metadata": {
        "id": "NyKFpdJBEkw7"
      },
      "source": [
        "## Tradicional (estilo Java)\n",
        "\n",
        "  void setAtributo( valor )\n",
        "  \n",
        "  tipo getAtributo( )"
      ]
    },
    {
      "cell_type": "code",
      "metadata": {
        "id": "vsNkroCrE1KR",
        "outputId": "7ba1eaef-9d42-461a-82f2-3e43cd84513d",
        "colab": {
          "base_uri": "https://localhost:8080/",
          "height": 68
        }
      },
      "source": [
        "class Computadora:\n",
        "  def __init__( self , m , p):\n",
        "    self.__marca = m              #Cuando un atributo / metodo tiene __ al inicio, se considera que está en privado\n",
        "    self.__procesador = p\n",
        "    \n",
        "  def to_string( self ):\n",
        "    return \"Marca:\"+self.__marca+\" Procesador:\"+self.__procesador\n",
        "\n",
        "  def set_marca( self, m):\n",
        "    self.__marca = m\n",
        "\n",
        "  def set_procesador(self, p):\n",
        "    self.__procesador = p\n",
        "\n",
        "  def get_marca( self ):\n",
        "    return self.__marca\n",
        "  \n",
        "  def get_procesador( self ):\n",
        "    return self.__procesador\n",
        "  \n",
        "\n",
        "mi_pc = Computadora(\"Toshiba\",\"Intel i7\")\n",
        "print( mi_pc.to_string() )\n",
        "mi_pc.set_marca( \"HP \" )                  #No cambia, pues \"__marca\" es un atributo privado\n",
        "print( mi_pc.to_string() )\n",
        "print( mi_pc.get_procesador() )"
      ],
      "execution_count": 9,
      "outputs": [
        {
          "output_type": "stream",
          "text": [
            "Marca:Toshiba Procesador:Intel i7\n",
            "Marca:HP  Procesador:Intel i7\n",
            "Intel i7\n"
          ],
          "name": "stdout"
        }
      ]
    },
    {
      "cell_type": "markdown",
      "metadata": {
        "id": "wrmp7es3Ers7"
      },
      "source": [
        "## Estilo Python 3\n",
        "1. Utilizando decoradores\n",
        "- @property\n",
        "- @atributo.setter"
      ]
    },
    {
      "cell_type": "code",
      "metadata": {
        "id": "tSR2pfFkELrz",
        "outputId": "1bb5d16d-612b-4505-dd22-936d3a806ffc",
        "colab": {
          "base_uri": "https://localhost:8080/",
          "height": 102
        }
      },
      "source": [
        "class Computadora:\n",
        "  def __init__( self , m , p):\n",
        "    self.marca = m               #NO SE DECLARA, se manda a llamar al decorador @property quien es quien lo declara \n",
        "    self.procesador = p          #Se manda a llamar al decorador @property\n",
        "    \n",
        "  @property                      #Se declara como atributo privado y funciona como metodo get\n",
        "  def marca( self ):\n",
        "    return self.__marca\n",
        "\n",
        "  @marca.setter\n",
        "  def marca (self, m):\n",
        "    print(\"En el método set de la marca\")\n",
        "    self.__marca = m\n",
        "\n",
        "  @property\n",
        "  def procesador( self ):\n",
        "    return self.__procesador\n",
        "\n",
        "  @procesador.setter\n",
        "  def procesador( self, p):\n",
        "    print(\"En el método set del procesador\")\n",
        "    self.__procesador = p\n",
        "\n",
        "  def to_string( self ):\n",
        "    return 'Marca: ' + self.marca + ', ' + 'Procesador: ' + self.procesador\n",
        "\n",
        "mi_pc2 = Computadora(\"MacBook Pro\", \"Intel i7\")\n",
        "print(mi_pc2.to_string())\n",
        "\n",
        "mi_pc2.marca = 'Dell'\n",
        "print(mi_pc2.to_string())"
      ],
      "execution_count": 16,
      "outputs": [
        {
          "output_type": "stream",
          "text": [
            "En el método set de la marca\n",
            "En el método set del procesador\n",
            "Marca: MacBook Pro, Procesador: Intel i7\n",
            "En el método set de la marca\n",
            "Marca: Dell, Procesador: Intel i7\n"
          ],
          "name": "stdout"
        }
      ]
    },
    {
      "cell_type": "markdown",
      "metadata": {
        "id": "PWpIKML_Qgbn"
      },
      "source": [
        "# Herencia\n",
        "\n",
        "Clase base ---> Clase hija"
      ]
    },
    {
      "cell_type": "code",
      "metadata": {
        "id": "r4nO2acdQiF3",
        "outputId": "b3fcc234-6bfe-4ca4-8d91-52aa2f2a8e28",
        "colab": {
          "base_uri": "https://localhost:8080/",
          "height": 85
        }
      },
      "source": [
        "class ServidorEmpresarial( Computadora ):\n",
        "  def __init__( self ):\n",
        "    print(\"Hola servidor\")\n",
        "\n",
        "server = ServidorEmpresarial()\n",
        "server.marca = \"Sun Micro System\"\n",
        "server.procesador = \"Intel i7\"\n",
        "print(server.to_string())"
      ],
      "execution_count": 20,
      "outputs": [
        {
          "output_type": "stream",
          "text": [
            "Hola servidor\n",
            "En el método set de la marca\n",
            "En el método set del procesador\n",
            "Marca: Sun Micro System, Procesador: Intel i7\n"
          ],
          "name": "stdout"
        }
      ]
    }
  ]
}