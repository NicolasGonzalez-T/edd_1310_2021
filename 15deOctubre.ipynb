{
  "nbformat": 4,
  "nbformat_minor": 0,
  "metadata": {
    "colab": {
      "name": "15deOctubre.ipynb",
      "provenance": [],
      "authorship_tag": "ABX9TyMkaBHStDU/Jquum/6UcZI3",
      "include_colab_link": true
    },
    "kernelspec": {
      "name": "python3",
      "display_name": "Python 3"
    }
  },
  "cells": [
    {
      "cell_type": "markdown",
      "metadata": {
        "id": "view-in-github",
        "colab_type": "text"
      },
      "source": [
        "<a href=\"https://colab.research.google.com/github/NicolasGonzalez-T/edd_1310_2021/blob/master/15deOctubre.ipynb\" target=\"_parent\"><img src=\"https://colab.research.google.com/assets/colab-badge.svg\" alt=\"Open In Colab\"/></a>"
      ]
    },
    {
      "cell_type": "markdown",
      "metadata": {
        "id": "QQ7OdRPMAJFK"
      },
      "source": [
        "# Módulos\n",
        "Son recursos **reutilizables** que contienen varias funciones que pueden ser importadas al código\n",
        "(En C son librerias estándar y en Java son paquetes)"
      ]
    },
    {
      "cell_type": "code",
      "metadata": {
        "id": "4BSxud4hACio",
        "outputId": "8360f067-cdcc-4723-a72c-68d7523635f0",
        "colab": {
          "base_uri": "https://localhost:8080/",
          "height": 85
        }
      },
      "source": [
        "\n",
        "import mi_modulo\n",
        "\n",
        "print(mi_modulo.sumar(4, 7))\n",
        "\n",
        "print(mi_modulo.restar(4, 7))\n",
        "\n",
        "print(mi_modulo.multiplicar(4, 7))\n",
        "\n",
        "print(mi_modulo.dividir(4, 7))\n"
      ],
      "execution_count": 14,
      "outputs": [
        {
          "output_type": "stream",
          "text": [
            "11\n",
            "-3\n",
            "28\n",
            "0.5714285714285714\n"
          ],
          "name": "stdout"
        }
      ]
    },
    {
      "cell_type": "markdown",
      "metadata": {
        "id": "L2tZCxTwMj-x"
      },
      "source": [
        "## Importar con un nombre propio"
      ]
    },
    {
      "cell_type": "code",
      "metadata": {
        "id": "9ZT6xAkGLN9n",
        "outputId": "17f2c2ed-a58f-4e7c-fe15-df4479c1a619",
        "colab": {
          "base_uri": "https://localhost:8080/",
          "height": 34
        }
      },
      "source": [
        "import mi_modulo as perro\n",
        "\n",
        "print(perro.sumar(4, 7))"
      ],
      "execution_count": 16,
      "outputs": [
        {
          "output_type": "stream",
          "text": [
            "11\n"
          ],
          "name": "stdout"
        }
      ]
    },
    {
      "cell_type": "markdown",
      "metadata": {
        "id": "aQVXcGsOKHF2"
      },
      "source": [
        "## Importar solo lo que nos interesa"
      ]
    },
    {
      "cell_type": "code",
      "metadata": {
        "id": "dMMnWwp_KJmQ",
        "outputId": "4af75bb6-e53c-4949-8fe2-10cd9270f366",
        "colab": {
          "base_uri": "https://localhost:8080/",
          "height": 68
        }
      },
      "source": [
        "from mi_modulo import sumar, dividir\n",
        "from mi_modulo import restar as rs\n",
        "\n",
        "print(sumar(4, 7))\n",
        "print(dividir(10, 2))\n",
        "\n",
        "print(rs(7, 4))"
      ],
      "execution_count": 23,
      "outputs": [
        {
          "output_type": "stream",
          "text": [
            "11\n",
            "5.0\n",
            "3\n"
          ],
          "name": "stdout"
        }
      ]
    },
    {
      "cell_type": "markdown",
      "metadata": {
        "id": "tCskRvdwLHeo"
      },
      "source": [
        "# Archivos\n",
        "- open(str, str)\n",
        "      1. Nombre o ruta del archivo\n",
        "      2. Dos carácteres\n",
        "          - Modo de apertura del archivo (r, w, a append si el archivo existe, x append si el archivo no existe)\n",
        "          - Formato del archivo (t, b) //Texto o binario\n",
        "\n"
      ]
    },
    {
      "cell_type": "code",
      "metadata": {
        "id": "fYaxncsOS_vz"
      },
      "source": [
        "archivo = open('Saludo.txt', 'wt')\n",
        "archivo.write('Hola mundo \\nuwu')\n",
        "archivo.close()"
      ],
      "execution_count": 36,
      "outputs": []
    },
    {
      "cell_type": "code",
      "metadata": {
        "id": "HSY5pBsbUdNC",
        "outputId": "978893cf-57d9-4b31-f266-0cb8bcc1c147",
        "colab": {
          "base_uri": "https://localhost:8080/",
          "height": 867
        }
      },
      "source": [
        "otro = open('./sample_data/anscombe.json', 'rt')\n",
        "datos = otro.read()\n",
        "print(datos)\n",
        "otro.close()"
      ],
      "execution_count": 38,
      "outputs": [
        {
          "output_type": "stream",
          "text": [
            "[\n",
            "  {\"Series\":\"I\", \"X\":10.0, \"Y\":8.04},\n",
            "  {\"Series\":\"I\", \"X\":8.0, \"Y\":6.95},\n",
            "  {\"Series\":\"I\", \"X\":13.0, \"Y\":7.58},\n",
            "  {\"Series\":\"I\", \"X\":9.0, \"Y\":8.81},\n",
            "  {\"Series\":\"I\", \"X\":11.0, \"Y\":8.33},\n",
            "  {\"Series\":\"I\", \"X\":14.0, \"Y\":9.96},\n",
            "  {\"Series\":\"I\", \"X\":6.0, \"Y\":7.24},\n",
            "  {\"Series\":\"I\", \"X\":4.0, \"Y\":4.26},\n",
            "  {\"Series\":\"I\", \"X\":12.0, \"Y\":10.84},\n",
            "  {\"Series\":\"I\", \"X\":7.0, \"Y\":4.81},\n",
            "  {\"Series\":\"I\", \"X\":5.0, \"Y\":5.68},\n",
            "\n",
            "  {\"Series\":\"II\", \"X\":10.0, \"Y\":9.14},\n",
            "  {\"Series\":\"II\", \"X\":8.0, \"Y\":8.14},\n",
            "  {\"Series\":\"II\", \"X\":13.0, \"Y\":8.74},\n",
            "  {\"Series\":\"II\", \"X\":9.0, \"Y\":8.77},\n",
            "  {\"Series\":\"II\", \"X\":11.0, \"Y\":9.26},\n",
            "  {\"Series\":\"II\", \"X\":14.0, \"Y\":8.10},\n",
            "  {\"Series\":\"II\", \"X\":6.0, \"Y\":6.13},\n",
            "  {\"Series\":\"II\", \"X\":4.0, \"Y\":3.10},\n",
            "  {\"Series\":\"II\", \"X\":12.0, \"Y\":9.13},\n",
            "  {\"Series\":\"II\", \"X\":7.0, \"Y\":7.26},\n",
            "  {\"Series\":\"II\", \"X\":5.0, \"Y\":4.74},\n",
            "\n",
            "  {\"Series\":\"III\", \"X\":10.0, \"Y\":7.46},\n",
            "  {\"Series\":\"III\", \"X\":8.0, \"Y\":6.77},\n",
            "  {\"Series\":\"III\", \"X\":13.0, \"Y\":12.74},\n",
            "  {\"Series\":\"III\", \"X\":9.0, \"Y\":7.11},\n",
            "  {\"Series\":\"III\", \"X\":11.0, \"Y\":7.81},\n",
            "  {\"Series\":\"III\", \"X\":14.0, \"Y\":8.84},\n",
            "  {\"Series\":\"III\", \"X\":6.0, \"Y\":6.08},\n",
            "  {\"Series\":\"III\", \"X\":4.0, \"Y\":5.39},\n",
            "  {\"Series\":\"III\", \"X\":12.0, \"Y\":8.15},\n",
            "  {\"Series\":\"III\", \"X\":7.0, \"Y\":6.42},\n",
            "  {\"Series\":\"III\", \"X\":5.0, \"Y\":5.73},\n",
            "\n",
            "  {\"Series\":\"IV\", \"X\":8.0, \"Y\":6.58},\n",
            "  {\"Series\":\"IV\", \"X\":8.0, \"Y\":5.76},\n",
            "  {\"Series\":\"IV\", \"X\":8.0, \"Y\":7.71},\n",
            "  {\"Series\":\"IV\", \"X\":8.0, \"Y\":8.84},\n",
            "  {\"Series\":\"IV\", \"X\":8.0, \"Y\":8.47},\n",
            "  {\"Series\":\"IV\", \"X\":8.0, \"Y\":7.04},\n",
            "  {\"Series\":\"IV\", \"X\":8.0, \"Y\":5.25},\n",
            "  {\"Series\":\"IV\", \"X\":19.0, \"Y\":12.50},\n",
            "  {\"Series\":\"IV\", \"X\":8.0, \"Y\":5.56},\n",
            "  {\"Series\":\"IV\", \"X\":8.0, \"Y\":7.91},\n",
            "  {\"Series\":\"IV\", \"X\":8.0, \"Y\":6.89}\n",
            "]\n",
            "\n"
          ],
          "name": "stdout"
        }
      ]
    },
    {
      "cell_type": "code",
      "metadata": {
        "id": "Mm23M3JfWdNX",
        "outputId": "6f376ec6-5d51-404e-e1e5-68cc6e6677d7",
        "colab": {
          "base_uri": "https://localhost:8080/",
          "height": 153
        }
      },
      "source": [
        "arch = open('frutas.txt', 'rt')\n",
        "data = 'uwu'\n",
        "while data != '':\n",
        "  data = arch.readline()\n",
        "  print(data)\n",
        "arch.close()\n",
        "\n",
        "arch = open('frutas.txt', 'rt')\n",
        "list_frutas = arch.readlines()\n",
        "print(list_frutas)\n",
        "arch.close()"
      ],
      "execution_count": 52,
      "outputs": [
        {
          "output_type": "stream",
          "text": [
            "manzana, peras,  kiwii  ,  aguacate\n",
            "\n",
            "limon  ,  naranja\n",
            "\n",
            "sandía   ,   papaya\n",
            "\n",
            "\n",
            "['manzana, peras,  kiwii  ,  aguacate\\n', 'limon  ,  naranja\\n', 'sandía   ,   papaya\\n']\n"
          ],
          "name": "stdout"
        }
      ]
    }
  ]
}