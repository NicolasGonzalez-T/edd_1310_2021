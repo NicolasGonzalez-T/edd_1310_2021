{
  "nbformat": 4,
  "nbformat_minor": 0,
  "metadata": {
    "colab": {
      "name": "Método Get.ipynb",
      "provenance": [],
      "authorship_tag": "ABX9TyNU1Vxp9ihbcwdZSQdkv7FC",
      "include_colab_link": true
    },
    "kernelspec": {
      "name": "python3",
      "display_name": "Python 3"
    }
  },
  "cells": [
    {
      "cell_type": "markdown",
      "metadata": {
        "id": "view-in-github",
        "colab_type": "text"
      },
      "source": [
        "<a href=\"https://colab.research.google.com/github/NicolasGonzalez-T/edd_1310_2021/blob/master/M%C3%A9todo_Get.ipynb\" target=\"_parent\"><img src=\"https://colab.research.google.com/assets/colab-badge.svg\" alt=\"Open In Colab\"/></a>"
      ]
    },
    {
      "cell_type": "code",
      "metadata": {
        "colab": {
          "base_uri": "https://localhost:8080/"
        },
        "id": "FpXTzB8RoOVj",
        "outputId": "2283f4e6-1d33-48f4-f54f-cb057738c268"
      },
      "source": [
        "from listas import LinkedList\n",
        "l = LinkedList()\n",
        "\"--------------\"\n",
        "l.append( 10 )\n",
        "l.append( 5 )\n",
        "l.append( 6 )\n",
        "l.append( 20 )\n",
        "\"--------------\"\n",
        "print(\"\\nMétodo get:\")\n",
        "print(l.get(1))     #Imprime la 1ra posicion en la lista\n",
        "print(l.get(2))     #Imprime la 2da posicion en la lista\n",
        "print(l.get(3))     #Imprime la 3ra posicion en la lista\n",
        "print(l.get(10))    #Intenta imprimir una posicion que no existe en la lista"
      ],
      "execution_count": 8,
      "outputs": [
        {
          "output_type": "stream",
          "text": [
            "\n",
            "Método get:\n",
            "5\n",
            "6\n",
            "20\n",
            "Posicion demasiado grande\n"
          ],
          "name": "stdout"
        }
      ]
    }
  ]
}