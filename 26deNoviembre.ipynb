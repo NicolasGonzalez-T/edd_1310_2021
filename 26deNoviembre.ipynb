{
  "nbformat": 4,
  "nbformat_minor": 0,
  "metadata": {
    "colab": {
      "name": "26deNoviembre.ipynb",
      "provenance": [],
      "authorship_tag": "ABX9TyMUbimiosfrktnR5DAqMa8v",
      "include_colab_link": true
    },
    "kernelspec": {
      "name": "python3",
      "display_name": "Python 3"
    }
  },
  "cells": [
    {
      "cell_type": "markdown",
      "metadata": {
        "id": "view-in-github",
        "colab_type": "text"
      },
      "source": [
        "<a href=\"https://colab.research.google.com/github/NicolasGonzalez-T/edd_1310_2021/blob/master/26deNoviembre.ipynb\" target=\"_parent\"><img src=\"https://colab.research.google.com/assets/colab-badge.svg\" alt=\"Open In Colab\"/></a>"
      ]
    },
    {
      "cell_type": "code",
      "metadata": {
        "colab": {
          "base_uri": "https://localhost:8080/"
        },
        "id": "JYyE1_GZ5Rdi",
        "outputId": "5ccd157e-689b-44e7-a3a7-3b88a15bf0a4"
      },
      "source": [
        "from pilas import Stack\n",
        "\n",
        "pila = Stack()\n",
        "pila.push('a')\n",
        "pila.push('x')\n",
        "pila.to_string()\n",
        "pila.push('b')\n",
        "pila.push('y')\n",
        "pila.to_string()\n",
        "var = pila.pop()\n",
        "print(f\"var = {var}\")\n"
      ],
      "execution_count": 5,
      "outputs": [
        {
          "output_type": "stream",
          "text": [
            " ----- \n",
            " | a | \n",
            " ----- \n",
            " | x | \n",
            " ----- \n",
            " | a | \n",
            " ----- \n",
            " | x | \n",
            " ----- \n",
            " | b | \n",
            " ----- \n",
            " | y | \n",
            "var = y\n"
          ],
          "name": "stdout"
        }
      ]
    }
  ]
}