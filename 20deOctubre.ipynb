{
  "nbformat": 4,
  "nbformat_minor": 0,
  "metadata": {
    "colab": {
      "name": "20deOctubre.ipynb",
      "provenance": [],
      "include_colab_link": true
    },
    "kernelspec": {
      "name": "python3",
      "display_name": "Python 3"
    }
  },
  "cells": [
    {
      "cell_type": "markdown",
      "metadata": {
        "id": "view-in-github",
        "colab_type": "text"
      },
      "source": [
        "<a href=\"https://colab.research.google.com/github/NicolasGonzalez-T/edd_1310_2021/blob/master/20deOctubre.ipynb\" target=\"_parent\"><img src=\"https://colab.research.google.com/assets/colab-badge.svg\" alt=\"Open In Colab\"/></a>"
      ]
    },
    {
      "cell_type": "code",
      "metadata": {
        "id": "mZAz6Nzzvzd7",
        "outputId": "67f7a3d7-7afe-4067-f77e-f72f6368f5ba",
        "colab": {
          "base_uri": "https://localhost:8080/",
          "height": 272
        }
      },
      "source": [
        "archivo = open('numeros.txt', 'rt')\n",
        "for linea in archivo.readlines():\n",
        "  for numero in linea.split(','):\n",
        "    print(int(numero.strip()))\n"
      ],
      "execution_count": 7,
      "outputs": [
        {
          "output_type": "stream",
          "text": [
            "23\n",
            "23\n",
            "44\n",
            "55\n",
            "5\n",
            "44\n",
            "4\n",
            "5\n",
            "7\n",
            "7\n",
            "6\n",
            "5\n",
            "4\n",
            "2\n",
            "1\n"
          ],
          "name": "stdout"
        }
      ]
    },
    {
      "cell_type": "markdown",
      "metadata": {
        "id": "vAlTEzfO2mvr"
      },
      "source": [
        "# For en Python\n",
        "Existen 2 versiones del for\n",
        "- range\n",
        "- in iterator"
      ]
    },
    {
      "cell_type": "code",
      "metadata": {
        "id": "fdIyvRj221Bl",
        "outputId": "93046572-6cd0-4ba9-be2f-73c715bc93ef",
        "colab": {
          "base_uri": "https://localhost:8080/",
          "height": 170
        }
      },
      "source": [
        "r = range(0, 10, 2)\n",
        "for x in r:\n",
        "  print(x)\n",
        "\n",
        "colores = ['rojo', 'rosa', 'azul', 'fucsia']\n",
        "for indice in range(0, len(colores), 1):\n",
        "  colores[indice] = colores[indice].upper()\n",
        "\n",
        "for color in colores:\n",
        "  print(color)\n"
      ],
      "execution_count": 17,
      "outputs": [
        {
          "output_type": "stream",
          "text": [
            "0\n",
            "2\n",
            "4\n",
            "6\n",
            "8\n",
            "ROJO\n",
            "ROSA\n",
            "AZUL\n",
            "FUCSIA\n"
          ],
          "name": "stdout"
        }
      ]
    },
    {
      "cell_type": "markdown",
      "metadata": {
        "id": "cMRimgnq7_qx"
      },
      "source": [
        "# Generadores\n",
        "Sintaxis: \n",
        "[ valor for x in range() ]"
      ]
    },
    {
      "cell_type": "code",
      "metadata": {
        "id": "5Xb-Ypvg8cW2",
        "outputId": "607cfb1f-fa18-4d9c-b535-a5819e89bff9",
        "colab": {
          "base_uri": "https://localhost:8080/",
          "height": 34
        }
      },
      "source": [
        "lista = [ 0 for x in range(0, 10)]\n",
        "print(lista)"
      ],
      "execution_count": 24,
      "outputs": [
        {
          "output_type": "stream",
          "text": [
            "[0, 0, 0, 0, 0, 0, 0, 0, 0, 0]\n"
          ],
          "name": "stdout"
        }
      ]
    },
    {
      "cell_type": "code",
      "metadata": {
        "id": "RAmmiBuK9ua6",
        "outputId": "2f1e3f7e-623b-4bdd-b020-21abbc54f3f8",
        "colab": {
          "base_uri": "https://localhost:8080/",
          "height": 34
        }
      },
      "source": [
        "# Generar matriz de 3 x 3\n",
        "matriz = [ [0, 0, 0] for x in range(3)]\n",
        "print(matriz)"
      ],
      "execution_count": 26,
      "outputs": [
        {
          "output_type": "stream",
          "text": [
            "[[0, 0, 0], [0, 0, 0], [0, 0, 0]]\n"
          ],
          "name": "stdout"
        }
      ]
    },
    {
      "cell_type": "code",
      "metadata": {
        "id": "pMfsVC2O96dh",
        "outputId": "49987cb6-4386-475f-dcce-7bdac8717d9d",
        "colab": {
          "base_uri": "https://localhost:8080/",
          "height": 34
        }
      },
      "source": [
        "matriz = [[0 for x in range(3)] for x in range(3)]\n",
        "print(matriz)"
      ],
      "execution_count": 27,
      "outputs": [
        {
          "output_type": "stream",
          "text": [
            "[[0, 0, 0], [0, 0, 0], [0, 0, 0]]\n"
          ],
          "name": "stdout"
        }
      ]
    },
    {
      "cell_type": "markdown",
      "metadata": {
        "id": "sobmM4vf_gaK"
      },
      "source": [
        "# P.O.O.\n",
        "- Clase\n",
        "- Creacion de objetos\n",
        "- Constructor\n",
        "- Encapsulamiento\n",
        "- Métodos\n",
        "- Atributos\n",
        "# - Herencia"
      ]
    },
    {
      "cell_type": "code",
      "metadata": {
        "id": "dtnq5PM0_r-Q",
        "outputId": "949dd880-02f2-4044-bc33-3c30e7782561",
        "colab": {
          "base_uri": "https://localhost:8080/",
          "height": 35
        }
      },
      "source": [
        "class Computadora:\n",
        "  def __init__( self , m , p):        #constructor; tiene que llamarse así obligatoriamente\n",
        "    self.__marca = m\n",
        "    self.__procesador = p\n",
        "\n",
        "  def to_string( self ):              #Da el estado actual del objeto\n",
        "    return \"Marca: \" + self.__marca + \" Procesador: \" + self.__procesador\n",
        "\n",
        "mi_pc = Computadora('Toshiba', 'Core i7')\n",
        "mi_pc.to_string()"
      ],
      "execution_count": 38,
      "outputs": [
        {
          "output_type": "execute_result",
          "data": {
            "application/vnd.google.colaboratory.intrinsic+json": {
              "type": "string"
            },
            "text/plain": [
              "'Marca: Toshiba Procesador: Core i7'"
            ]
          },
          "metadata": {
            "tags": []
          },
          "execution_count": 38
        }
      ]
    }
  ]
}